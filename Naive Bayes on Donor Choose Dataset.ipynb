{
 "cells": [
  {
   "cell_type": "markdown",
   "metadata": {
    "id": "inzYCIaib3c3"
   },
   "source": [
    "<h1>2. Naive Bayes </h1>"
   ]
  },
  {
   "cell_type": "markdown",
   "metadata": {
    "id": "FYqCIxzFb3c5"
   },
   "source": [
    "## 1.1 Loading Data"
   ]
  },
  {
   "cell_type": "code",
   "execution_count": 1,
   "metadata": {
    "ExecuteTime": {
     "end_time": "2022-08-05T14:58:57.300152Z",
     "start_time": "2022-08-05T14:58:54.392709Z"
    },
    "id": "dA1jknyqb3c_"
   },
   "outputs": [],
   "source": [
    "#make sure you are loading atleast 50k datapoints\n",
    "#you can work with features of preprocessed_data.csv for the assignment.\n",
    "# If you want to add more features, you can add. (This is purely optional, not mandatory)\n",
    "\n",
    "\n",
    "import pandas as pd \n",
    "import numpy as np\n",
    "\n",
    "import seaborn as sns\n",
    "import matplotlib.pyplot as plt\n",
    "\n",
    "from tqdm import tqdm\n",
    "\n",
    "from sklearn.model_selection import train_test_split\n",
    "\n",
    "from sklearn.feature_extraction.text import CountVectorizer\n",
    "from sklearn.feature_extraction.text import TfidfVectorizer\n",
    "\n",
    "from sklearn.preprocessing import OneHotEncoder\n",
    "from sklearn.preprocessing import Normalizer\n",
    "\n",
    "from scipy.sparse import hstack\n",
    "\n",
    "from sklearn.naive_bayes import MultinomialNB\n",
    "\n",
    "from sklearn.model_selection import GridSearchCV\n",
    "\n",
    "\n",
    "from sklearn.metrics import roc_auc_score\n",
    "from sklearn.metrics import confusion_matrix\n",
    "\n",
    "from sklearn.model_selection import GridSearchCV"
   ]
  },
  {
   "cell_type": "code",
   "execution_count": 2,
   "metadata": {
    "ExecuteTime": {
     "end_time": "2022-08-05T14:59:01.444672Z",
     "start_time": "2022-08-05T14:58:59.489643Z"
    }
   },
   "outputs": [
    {
     "data": {
      "text/html": [
       "<div>\n",
       "<style scoped>\n",
       "    .dataframe tbody tr th:only-of-type {\n",
       "        vertical-align: middle;\n",
       "    }\n",
       "\n",
       "    .dataframe tbody tr th {\n",
       "        vertical-align: top;\n",
       "    }\n",
       "\n",
       "    .dataframe thead th {\n",
       "        text-align: right;\n",
       "    }\n",
       "</style>\n",
       "<table border=\"1\" class=\"dataframe\">\n",
       "  <thead>\n",
       "    <tr style=\"text-align: right;\">\n",
       "      <th></th>\n",
       "      <th>school_state</th>\n",
       "      <th>teacher_prefix</th>\n",
       "      <th>project_grade_category</th>\n",
       "      <th>teacher_number_of_previously_posted_projects</th>\n",
       "      <th>project_is_approved</th>\n",
       "      <th>clean_categories</th>\n",
       "      <th>clean_subcategories</th>\n",
       "      <th>essay</th>\n",
       "      <th>price</th>\n",
       "    </tr>\n",
       "  </thead>\n",
       "  <tbody>\n",
       "    <tr>\n",
       "      <th>30401</th>\n",
       "      <td>tx</td>\n",
       "      <td>mrs</td>\n",
       "      <td>grades_3_5</td>\n",
       "      <td>0</td>\n",
       "      <td>1</td>\n",
       "      <td>literacy_language</td>\n",
       "      <td>esl literacy</td>\n",
       "      <td>my kiddos great i work title 1 school large pe...</td>\n",
       "      <td>634.11</td>\n",
       "    </tr>\n",
       "    <tr>\n",
       "      <th>87462</th>\n",
       "      <td>ga</td>\n",
       "      <td>mrs</td>\n",
       "      <td>grades_9_12</td>\n",
       "      <td>7</td>\n",
       "      <td>0</td>\n",
       "      <td>specialneeds</td>\n",
       "      <td>specialneeds</td>\n",
       "      <td>i work african american latino 11th 12th grade...</td>\n",
       "      <td>1043.50</td>\n",
       "    </tr>\n",
       "    <tr>\n",
       "      <th>46402</th>\n",
       "      <td>hi</td>\n",
       "      <td>mrs</td>\n",
       "      <td>grades_6_8</td>\n",
       "      <td>0</td>\n",
       "      <td>1</td>\n",
       "      <td>math_science</td>\n",
       "      <td>environmentalscience mathematics</td>\n",
       "      <td>ilima intermediate located ewa beach o ahu haw...</td>\n",
       "      <td>279.48</td>\n",
       "    </tr>\n",
       "    <tr>\n",
       "      <th>27349</th>\n",
       "      <td>fl</td>\n",
       "      <td>mrs</td>\n",
       "      <td>grades_3_5</td>\n",
       "      <td>0</td>\n",
       "      <td>1</td>\n",
       "      <td>health_sports</td>\n",
       "      <td>health_wellness nutritioneducation</td>\n",
       "      <td>i teach amazing group gifted talented 4th grad...</td>\n",
       "      <td>225.00</td>\n",
       "    </tr>\n",
       "    <tr>\n",
       "      <th>93938</th>\n",
       "      <td>ny</td>\n",
       "      <td>ms</td>\n",
       "      <td>grades_6_8</td>\n",
       "      <td>0</td>\n",
       "      <td>1</td>\n",
       "      <td>literacy_language</td>\n",
       "      <td>literacy literature_writing</td>\n",
       "      <td>are great divide readers i 6th graders high ac...</td>\n",
       "      <td>247.02</td>\n",
       "    </tr>\n",
       "  </tbody>\n",
       "</table>\n",
       "</div>"
      ],
      "text/plain": [
       "      school_state teacher_prefix project_grade_category  \\\n",
       "30401           tx            mrs             grades_3_5   \n",
       "87462           ga            mrs            grades_9_12   \n",
       "46402           hi            mrs             grades_6_8   \n",
       "27349           fl            mrs             grades_3_5   \n",
       "93938           ny             ms             grades_6_8   \n",
       "\n",
       "       teacher_number_of_previously_posted_projects  project_is_approved  \\\n",
       "30401                                             0                    1   \n",
       "87462                                             7                    0   \n",
       "46402                                             0                    1   \n",
       "27349                                             0                    1   \n",
       "93938                                             0                    1   \n",
       "\n",
       "        clean_categories                 clean_subcategories  \\\n",
       "30401  literacy_language                        esl literacy   \n",
       "87462       specialneeds                        specialneeds   \n",
       "46402       math_science    environmentalscience mathematics   \n",
       "27349      health_sports  health_wellness nutritioneducation   \n",
       "93938  literacy_language         literacy literature_writing   \n",
       "\n",
       "                                                   essay    price  \n",
       "30401  my kiddos great i work title 1 school large pe...   634.11  \n",
       "87462  i work african american latino 11th 12th grade...  1043.50  \n",
       "46402  ilima intermediate located ewa beach o ahu haw...   279.48  \n",
       "27349  i teach amazing group gifted talented 4th grad...   225.00  \n",
       "93938  are great divide readers i 6th graders high ac...   247.02  "
      ]
     },
     "execution_count": 2,
     "metadata": {},
     "output_type": "execute_result"
    }
   ],
   "source": [
    "data = pd.read_csv('preprocessed_data.csv')\n",
    "data.sample(5)"
   ]
  },
  {
   "cell_type": "code",
   "execution_count": 3,
   "metadata": {
    "ExecuteTime": {
     "end_time": "2022-08-05T14:59:01.523189Z",
     "start_time": "2022-08-05T14:59:01.447663Z"
    }
   },
   "outputs": [
    {
     "name": "stdout",
     "output_type": "stream",
     "text": [
      "<class 'pandas.core.frame.DataFrame'>\n",
      "RangeIndex: 109248 entries, 0 to 109247\n",
      "Data columns (total 9 columns):\n",
      " #   Column                                        Non-Null Count   Dtype  \n",
      "---  ------                                        --------------   -----  \n",
      " 0   school_state                                  109248 non-null  object \n",
      " 1   teacher_prefix                                109248 non-null  object \n",
      " 2   project_grade_category                        109248 non-null  object \n",
      " 3   teacher_number_of_previously_posted_projects  109248 non-null  int64  \n",
      " 4   project_is_approved                           109248 non-null  int64  \n",
      " 5   clean_categories                              109248 non-null  object \n",
      " 6   clean_subcategories                           109248 non-null  object \n",
      " 7   essay                                         109248 non-null  object \n",
      " 8   price                                         109248 non-null  float64\n",
      "dtypes: float64(1), int64(2), object(6)\n",
      "memory usage: 7.5+ MB\n"
     ]
    }
   ],
   "source": [
    "data.info()"
   ]
  },
  {
   "cell_type": "markdown",
   "metadata": {
    "id": "WtVV13Fyb3dH"
   },
   "source": [
    "<h2>1.2 Splitting data into Train and cross validation(or test): Stratified Sampling</h2>"
   ]
  },
  {
   "cell_type": "code",
   "execution_count": 4,
   "metadata": {
    "ExecuteTime": {
     "end_time": "2022-08-05T14:59:04.652910Z",
     "start_time": "2022-08-05T14:59:04.647789Z"
    }
   },
   "outputs": [],
   "source": [
    "def per_data(a,b):\n",
    "    return (a * 100 )/b "
   ]
  },
  {
   "cell_type": "code",
   "execution_count": 5,
   "metadata": {
    "ExecuteTime": {
     "end_time": "2022-08-05T14:59:05.475100Z",
     "start_time": "2022-08-05T14:59:05.454428Z"
    }
   },
   "outputs": [],
   "source": [
    "x = data.drop(['project_is_approved'], axis=1)\n",
    "y = data['project_is_approved'].values\n",
    "\n"
   ]
  },
  {
   "cell_type": "code",
   "execution_count": 6,
   "metadata": {
    "ExecuteTime": {
     "end_time": "2022-08-05T14:59:05.925260Z",
     "start_time": "2022-08-05T14:59:05.855232Z"
    }
   },
   "outputs": [
    {
     "name": "stdout",
     "output_type": "stream",
     "text": [
      "(73196, 8) --- (36052, 8) --- (73196,) --- (36052,)\n"
     ]
    }
   ],
   "source": [
    "x_train, x_test, y_train, y_test = train_test_split(x, y, test_size=0.33, stratify=y)\n",
    "\n",
    "print(f\"{x_train.shape} --- {x_test.shape} --- {y_train.shape} --- {y_test.shape}\")"
   ]
  },
  {
   "cell_type": "code",
   "execution_count": null,
   "metadata": {},
   "outputs": [],
   "source": []
  },
  {
   "cell_type": "code",
   "execution_count": 7,
   "metadata": {
    "ExecuteTime": {
     "end_time": "2022-08-05T14:59:06.795957Z",
     "start_time": "2022-08-05T14:59:06.779549Z"
    }
   },
   "outputs": [],
   "source": [
    "features_bow = []\n",
    "features_tfidf = []"
   ]
  },
  {
   "cell_type": "markdown",
   "metadata": {},
   "source": [
    "# BOW transformation "
   ]
  },
  {
   "cell_type": "code",
   "execution_count": 8,
   "metadata": {
    "ExecuteTime": {
     "end_time": "2022-08-05T14:59:11.149047Z",
     "start_time": "2022-08-05T14:59:11.139348Z"
    }
   },
   "outputs": [],
   "source": [
    "bow_model = CountVectorizer(min_df=10, ngram_range=(1,4), max_features=15000)\n"
   ]
  },
  {
   "cell_type": "code",
   "execution_count": 9,
   "metadata": {
    "ExecuteTime": {
     "end_time": "2022-08-05T15:01:33.818931Z",
     "start_time": "2022-08-05T14:59:11.677119Z"
    }
   },
   "outputs": [
    {
     "data": {
      "text/plain": [
       "CountVectorizer(max_features=15000, min_df=10, ngram_range=(1, 4))"
      ]
     },
     "execution_count": 9,
     "metadata": {},
     "output_type": "execute_result"
    }
   ],
   "source": [
    "bow_model.fit(x_train['essay'])"
   ]
  },
  {
   "cell_type": "code",
   "execution_count": 10,
   "metadata": {
    "ExecuteTime": {
     "end_time": "2022-08-05T15:01:33.865912Z",
     "start_time": "2022-08-05T15:01:33.820924Z"
    }
   },
   "outputs": [
    {
     "data": {
      "text/plain": [
       "{'the': 13019,\n",
       " 'student': 11625,\n",
       " 'body': 1343,\n",
       " 'represents': 10195,\n",
       " 'rich': 10302,\n",
       " 'cultural': 2738,\n",
       " 'mix': 7788,\n",
       " 'students': 11666,\n",
       " 'it': 6087,\n",
       " 'racially': 9811,\n",
       " 'diverse': 3199,\n",
       " 'racial': 9810,\n",
       " 'ethnic': 3843,\n",
       " 'groups': 5124,\n",
       " 'represented': 10193,\n",
       " 'including': 5811,\n",
       " 'hispanic': 5532,\n",
       " '12': 25,\n",
       " 'african': 502,\n",
       " 'american': 713,\n",
       " '60': 136,\n",
       " 'totally': 13703,\n",
       " 'economically': 3439,\n",
       " 'disadvantaged': 3141,\n",
       " 'due': 3330,\n",
       " 'nearby': 8194,\n",
       " 'military': 7748,\n",
       " 'base': 1083,\n",
       " 'population': 9324,\n",
       " 'heavy': 5315,\n",
       " 'influence': 5904,\n",
       " 'once': 8695,\n",
       " 'always': 674,\n",
       " 'graduated': 5021,\n",
       " 'particular': 9061,\n",
       " 'high': 5472,\n",
       " 'school': 10433,\n",
       " '20': 46,\n",
       " 'years': 14940,\n",
       " 'ago': 516,\n",
       " 'important': 5746,\n",
       " 'give': 4837,\n",
       " 'back': 1022,\n",
       " 'community': 2384,\n",
       " 'live': 7002,\n",
       " 'lived': 7016,\n",
       " 'needed': 8302,\n",
       " 'lab': 6308,\n",
       " 'equipment': 3804,\n",
       " 'learning': 6595,\n",
       " 'not': 8475,\n",
       " 'must': 7961,\n",
       " 'talk': 12769,\n",
       " 'write': 14856,\n",
       " 'relate': 10145,\n",
       " 'past': 9079,\n",
       " 'experiences': 4045,\n",
       " 'apply': 778,\n",
       " 'daily': 2784,\n",
       " 'lives': 7018,\n",
       " 'they': 13224,\n",
       " 'make': 7307,\n",
       " 'learn': 6422,\n",
       " 'part': 9040,\n",
       " 'seniors': 10874,\n",
       " 'participate': 9053,\n",
       " 'labs': 6314,\n",
       " 'class': 1909,\n",
       " 'want': 14183,\n",
       " 'get': 4772,\n",
       " 'rid': 10305,\n",
       " 'traditional': 13720,\n",
       " 'one': 8697,\n",
       " 'desks': 2981,\n",
       " 'use': 13937,\n",
       " 'tables': 12708,\n",
       " 'full': 4626,\n",
       " 'time': 13547,\n",
       " 'facilitate': 4165,\n",
       " 'cooperative': 2589,\n",
       " 'hands': 5186,\n",
       " 'acquired': 385,\n",
       " 'desperately': 2990,\n",
       " 'need': 8208,\n",
       " 'stools': 11543,\n",
       " 'chairs': 1704,\n",
       " 'reality': 10021,\n",
       " 'research': 10214,\n",
       " 'shows': 10997,\n",
       " 'classroom': 1983,\n",
       " 'design': 2965,\n",
       " 'levels': 6829,\n",
       " 'interaction': 5996,\n",
       " 'engagement': 3643,\n",
       " 'active': 394,\n",
       " 'improve': 5760,\n",
       " 'retention': 10285,\n",
       " 'help': 5320,\n",
       " 'acquire': 384,\n",
       " 'many': 7406,\n",
       " 'thanks': 13016,\n",
       " 'nannan': 8173,\n",
       " 'the student': 13109,\n",
       " 'student body': 11634,\n",
       " 'students it': 12073,\n",
       " 'diverse student': 3218,\n",
       " 'african american': 503,\n",
       " 'economically disadvantaged': 3440,\n",
       " 'student population': 11656,\n",
       " 'high school': 5507,\n",
       " '20 years': 49,\n",
       " 'years ago': 14941,\n",
       " 'it important': 6110,\n",
       " 'give back': 4840,\n",
       " 'learning not': 6689,\n",
       " 'daily lives': 2799,\n",
       " 'lives they': 7031,\n",
       " 'class want': 1965,\n",
       " 'want get': 14204,\n",
       " 'desks students': 2984,\n",
       " 'students use': 12471,\n",
       " 'full time': 4638,\n",
       " 'hands learning': 5194,\n",
       " 'desperately need': 2991,\n",
       " 'traditional chairs': 13721,\n",
       " 'make reality': 7352,\n",
       " 'research shows': 10219,\n",
       " 'active learning': 400,\n",
       " 'learning improve': 6661,\n",
       " 'working': 14716,\n",
       " 'small': 11165,\n",
       " 'town': 13710,\n",
       " 'everyone': 3929,\n",
       " 'knows': 6305,\n",
       " 'everything': 3931,\n",
       " 'incredible': 5865,\n",
       " 'parent': 9018,\n",
       " 'support': 12656,\n",
       " 'behind': 1195,\n",
       " 'children': 1803,\n",
       " '100': 6,\n",
       " 'financially': 4323,\n",
       " 'able': 206,\n",
       " 'already': 609,\n",
       " 'first': 4354,\n",
       " 'grade': 4958,\n",
       " 'easier': 3417,\n",
       " 'access': 319,\n",
       " 'necessary': 8198,\n",
       " 'amount': 720,\n",
       " 'independence': 5867,\n",
       " 'grow': 5129,\n",
       " 'yet': 14952,\n",
       " 'this': 13427,\n",
       " 'opportunity': 8786,\n",
       " 'better': 1272,\n",
       " 'books': 1363,\n",
       " 'ready': 9999,\n",
       " 'limited': 6939,\n",
       " 'storage': 11553,\n",
       " 'space': 11323,\n",
       " 'allow': 551,\n",
       " 'keep': 6170,\n",
       " 'organized': 8860,\n",
       " 'excited': 3959,\n",
       " 'continue': 2555,\n",
       " 'career': 1625,\n",
       " 'teachers': 12860,\n",
       " 'proud': 9663,\n",
       " 'love': 7111,\n",
       " 'an': 724,\n",
       " 'happy': 5218,\n",
       " 'please': 9296,\n",
       " 'possible': 9371,\n",
       " 'thank': 13001,\n",
       " 'working small': 14727,\n",
       " 'small town': 11187,\n",
       " 'working class': 14717,\n",
       " 'children school': 1839,\n",
       " 'school 100': 10434,\n",
       " 'not always': 8489,\n",
       " 'first grade': 4363,\n",
       " 'grade students': 4984,\n",
       " 'not yet': 8605,\n",
       " 'this give': 13448,\n",
       " 'give students': 4856,\n",
       " 'students opportunity': 12233,\n",
       " 'access books': 320,\n",
       " 'space classroom': 11324,\n",
       " 'classroom allow': 1987,\n",
       " 'allow students': 568,\n",
       " 'students able': 11674,\n",
       " 'able access': 207,\n",
       " 'keep organized': 6182,\n",
       " 'students teachers': 12428,\n",
       " 'love students': 7173,\n",
       " 'organized classroom': 8861,\n",
       " 'please help': 9300,\n",
       " 'help make': 5373,\n",
       " 'make classroom': 7314,\n",
       " 'thank support': 13010,\n",
       " 'support nannan': 12664,\n",
       " 'first grade students': 4366,\n",
       " 'give students opportunity': 4863,\n",
       " 'classroom allow students': 1988,\n",
       " 'allow students able': 569,\n",
       " 'students able access': 11675,\n",
       " 'please help make': 9301,\n",
       " 'thank support nannan': 13011,\n",
       " 'my': 7962,\n",
       " 'curious': 2747,\n",
       " 'young': 14968,\n",
       " 'five': 4392,\n",
       " 'year': 14884,\n",
       " 'olds': 8692,\n",
       " 'beginning': 1180,\n",
       " 'kindergarten': 6240,\n",
       " 'starting': 11466,\n",
       " 'read': 9863,\n",
       " 'count': 2629,\n",
       " 'explore': 4075,\n",
       " 'new': 8359,\n",
       " 'things': 13375,\n",
       " 'see': 10824,\n",
       " 'provide': 9670,\n",
       " 'creative': 2686,\n",
       " 'meaningful': 7658,\n",
       " 'take': 12724,\n",
       " 'come': 2250,\n",
       " 'our': 8883,\n",
       " 'performing': 9150,\n",
       " 'title': 13615,\n",
       " 'elementary': 3527,\n",
       " 'nevada': 8350,\n",
       " 'move': 7867,\n",
       " 'around': 833,\n",
       " 'fun': 4645,\n",
       " 'activities': 414,\n",
       " 'whole': 14496,\n",
       " 'moving': 7902,\n",
       " 'basketballs': 1117,\n",
       " 'soccer': 11217,\n",
       " 'balls': 1066,\n",
       " 'jump': 6160,\n",
       " 'ropes': 10359,\n",
       " 'activity': 439,\n",
       " 'mats': 7630,\n",
       " 'easy': 3424,\n",
       " 'ball': 1063,\n",
       " 'toss': 13701,\n",
       " 'going': 4934,\n",
       " 'skills': 11096,\n",
       " 'these': 13170,\n",
       " 'materials': 7533,\n",
       " 'used': 14007,\n",
       " 'build': 1510,\n",
       " 'fine': 4337,\n",
       " 'motor': 7861,\n",
       " 'develop': 3014,\n",
       " 'coordination': 2593,\n",
       " 'also': 611,\n",
       " 'file': 4309,\n",
       " 'folder': 4465,\n",
       " 'games': 4719,\n",
       " 'centers': 1680,\n",
       " 'healthy': 5296,\n",
       " 'food': 4471,\n",
       " 'choices': 1859,\n",
       " 'different': 3054,\n",
       " 'recess': 10073,\n",
       " 'all': 539,\n",
       " 'days': 2898,\n",
       " 'my students': 8029,\n",
       " 'students curious': 11860,\n",
       " 'five year': 4397,\n",
       " 'year olds': 14908,\n",
       " 'learn read': 6511,\n",
       " 'read write': 9906,\n",
       " 'they love': 13316,\n",
       " 'love learn': 7134,\n",
       " 'learn explore': 6460,\n",
       " 'many new': 7451,\n",
       " 'new things': 8401,\n",
       " 'things love': 13383,\n",
       " 'love see': 7170,\n",
       " 'excited students': 3986,\n",
       " 'students school': 12347,\n",
       " 'school want': 10690,\n",
       " 'want provide': 14227,\n",
       " 'provide students': 9703,\n",
       " 'students creative': 11854,\n",
       " 'creative meaningful': 2695,\n",
       " 'meaningful learning': 7659,\n",
       " 'learning experiences': 6644,\n",
       " 'years come': 14942,\n",
       " 'our school': 8910,\n",
       " 'school high': 10533,\n",
       " 'title elementary': 13616,\n",
       " 'elementary school': 3528,\n",
       " 'students love': 12126,\n",
       " 'love move': 7151,\n",
       " 'move around': 7868,\n",
       " 'active they': 406,\n",
       " 'they want': 13360,\n",
       " 'fun activities': 4646,\n",
       " 'whole class': 14498,\n",
       " 'class get': 1926,\n",
       " 'get moving': 4802,\n",
       " 'soccer balls': 11218,\n",
       " 'jump ropes': 6161,\n",
       " 'get students': 4811,\n",
       " 'students moving': 12176,\n",
       " 'many skills': 7469,\n",
       " 'skills daily': 11106,\n",
       " 'these materials': 13189,\n",
       " 'materials used': 7575,\n",
       " 'used daily': 14010,\n",
       " 'help build': 5329,\n",
       " 'fine motor': 4341,\n",
       " 'motor skills': 7862,\n",
       " 'students also': 11721,\n",
       " 'learn healthy': 6468,\n",
       " 'healthy food': 5300,\n",
       " 'food choices': 4472,\n",
       " 'different materials': 3074,\n",
       " 'make easy': 7326,\n",
       " 'easy students': 3426,\n",
       " 'students access': 11698,\n",
       " 'students want': 12493,\n",
       " 'all materials': 542,\n",
       " 'materials allow': 7535,\n",
       " 'my students curious': 8063,\n",
       " 'five year olds': 4399,\n",
       " 'learn read write': 6512,\n",
       " 'they love learn': 13320,\n",
       " 'want provide students': 14229,\n",
       " 'provide students creative': 9705,\n",
       " 'students creative meaningful': 11857,\n",
       " 'creative meaningful learning': 2696,\n",
       " 'meaningful learning experiences': 7660,\n",
       " 'our school high': 8916,\n",
       " 'title elementary school': 13617,\n",
       " 'my students love': 8111,\n",
       " 'students love move': 12134,\n",
       " 'love move around': 7152,\n",
       " 'these materials used': 13198,\n",
       " 'fine motor skills': 4342,\n",
       " 'my students want': 8152,\n",
       " 'provide students creative meaningful': 9706,\n",
       " 'students creative meaningful learning': 11858,\n",
       " 'creative meaningful learning experiences': 2697,\n",
       " 'my students love move': 8114,\n",
       " 'various': 14089,\n",
       " 'backgrounds': 1028,\n",
       " 'speak': 11339,\n",
       " 'several': 10934,\n",
       " 'languages': 6365,\n",
       " 'however': 5646,\n",
       " 'eager': 3361,\n",
       " 'attend': 957,\n",
       " 'top': 13695,\n",
       " 'state': 11468,\n",
       " 'administration': 471,\n",
       " 'work': 14622,\n",
       " 'together': 13649,\n",
       " 'safe': 10388,\n",
       " 'environment': 3769,\n",
       " 'motivation': 7856,\n",
       " 'every': 3872,\n",
       " 'day': 2828,\n",
       " 'reach': 9846,\n",
       " 'potential': 9387,\n",
       " 'adds': 466,\n",
       " 'something': 11291,\n",
       " 'unique': 13873,\n",
       " 'look': 7075,\n",
       " 'forward': 4512,\n",
       " 'teaching': 12875,\n",
       " 'honored': 5604,\n",
       " 'teacher': 12834,\n",
       " 'academically': 307,\n",
       " 'receiving': 10063,\n",
       " 'kindle': 6255,\n",
       " 'fires': 4351,\n",
       " 'four': 4530,\n",
       " 'current': 2753,\n",
       " 'computers': 2453,\n",
       " 'outdated': 8955,\n",
       " 'well': 14440,\n",
       " 'higher': 5514,\n",
       " 'level': 6803,\n",
       " 'passionate': 9076,\n",
       " 'reading': 9923,\n",
       " 'using': 14030,\n",
       " 'technology': 12900,\n",
       " 'ways': 14298,\n",
       " 'become': 1138,\n",
       " 'readers': 9910,\n",
       " 'extremely': 4130,\n",
       " 'society': 11237,\n",
       " 'today': 13643,\n",
       " 'tablets': 12712,\n",
       " 'math': 7578,\n",
       " 'struggling': 11620,\n",
       " 'apps': 797,\n",
       " 'websites': 14425,\n",
       " 'vital': 14146,\n",
       " 'home': 5553,\n",
       " 'students come': 11795,\n",
       " 'come various': 2332,\n",
       " 'ethnic backgrounds': 3844,\n",
       " 'several different': 10938,\n",
       " 'different languages': 3069,\n",
       " 'always eager': 680,\n",
       " 'eager learn': 3366,\n",
       " 'learn new': 6494,\n",
       " 'things my': 13388,\n",
       " 'students attend': 11744,\n",
       " 'our teachers': 8949,\n",
       " 'work together': 14699,\n",
       " 'provide safe': 9701,\n",
       " 'safe environment': 10390,\n",
       " 'environment my': 3779,\n",
       " 'every day': 3877,\n",
       " 'day they': 2888,\n",
       " 'help reach': 5396,\n",
       " 'reach potential': 9856,\n",
       " 'every student': 3904,\n",
       " 'look forward': 7076,\n",
       " 'teacher my': 12845,\n",
       " 'students improve': 12054,\n",
       " 'kindle fires': 6258,\n",
       " 'not work': 8602,\n",
       " 'work well': 14707,\n",
       " 'well students': 14452,\n",
       " 'students read': 12300,\n",
       " 'higher level': 5517,\n",
       " 'using technology': 14045,\n",
       " 'technology they': 12954,\n",
       " 'they able': 13225,\n",
       " 'able learn': 244,\n",
       " 'learn things': 6538,\n",
       " 'new ways': 8408,\n",
       " 'become better': 1143,\n",
       " 'better readers': 1288,\n",
       " 'readers the': 9916,\n",
       " 'the use': 13137,\n",
       " 'use technology': 13997,\n",
       " 'extremely important': 4134,\n",
       " 'also use': 657,\n",
       " 'use tablets': 13996,\n",
       " 'work math': 14667,\n",
       " 'math skills': 7613,\n",
       " 'students struggling': 12408,\n",
       " 'using different': 14035,\n",
       " 'able use': 270,\n",
       " 'technology school': 12947,\n",
       " 'school students': 10657,\n",
       " 'students not': 12213,\n",
       " 'not computers': 8504,\n",
       " 'computers tablets': 2459,\n",
       " 'home nannan': 5571,\n",
       " 'my students come': 8049,\n",
       " 'students come various': 11829,\n",
       " 'always eager learn': 681,\n",
       " 'eager learn new': 3376,\n",
       " 'learn new things': 6497,\n",
       " 'new things my': 8402,\n",
       " 'things my students': 13389,\n",
       " 'my students attend': 8042,\n",
       " 'environment my students': 3780,\n",
       " 'every day they': 3893,\n",
       " 'teacher my students': 12846,\n",
       " 'become better readers': 1144,\n",
       " 'the use technology': 13138,\n",
       " 'my students also': 8035,\n",
       " 'students also use': 11725,\n",
       " 'students able use': 11692,\n",
       " 'able use technology': 271,\n",
       " 'school students not': 10661,\n",
       " 'students not computers': 12221,\n",
       " 'my students come various': 8058,\n",
       " 'eager learn new things': 3377,\n",
       " 'new things my students': 8403,\n",
       " 'middle': 7732,\n",
       " 'driven': 3309,\n",
       " 'motivated': 7848,\n",
       " 'people': 9125,\n",
       " 'magnet': 7278,\n",
       " 'program': 9568,\n",
       " 'serves': 10901,\n",
       " 'highly': 5528,\n",
       " 'impoverished': 5757,\n",
       " 'central': 1684,\n",
       " 'california': 1591,\n",
       " 'campus': 1603,\n",
       " 'includes': 5809,\n",
       " 'multiple': 7932,\n",
       " 'socioeconomic': 11243,\n",
       " 'provides': 9720,\n",
       " 'quality': 9785,\n",
       " 'educational': 3482,\n",
       " 'experience': 4021,\n",
       " 'band': 1072,\n",
       " 'largest': 6386,\n",
       " 'organizations': 8858,\n",
       " 'currently': 2757,\n",
       " 'serving': 10908,\n",
       " 'members': 7699,\n",
       " 'we': 14317,\n",
       " 'offer': 8659,\n",
       " 'concert': 2476,\n",
       " 'bands': 1074,\n",
       " 'jazz': 6138,\n",
       " 'ensemble': 3738,\n",
       " 'competitive': 2415,\n",
       " 'percussion': 9140,\n",
       " 'color': 2236,\n",
       " 'strive': 11589,\n",
       " 'perform': 9145,\n",
       " 'achievement': 377,\n",
       " 'standard': 11441,\n",
       " 'musical': 7958,\n",
       " 'excellence': 3948,\n",
       " 'earned': 3410,\n",
       " 'local': 7038,\n",
       " 'recently': 10072,\n",
       " 'named': 8171,\n",
       " '2017': 57,\n",
       " 'towards': 13709,\n",
       " 'excellent': 3950,\n",
       " 'music': 7946,\n",
       " 'making': 7384,\n",
       " 'additional': 458,\n",
       " 'players': 9287,\n",
       " 'opportunities': 8771,\n",
       " 'advanced': 480,\n",
       " 'expand': 4008,\n",
       " 'multi': 7927,\n",
       " 'technique': 12893,\n",
       " 'types': 13826,\n",
       " 'allows': 594,\n",
       " 'varied': 14062,\n",
       " 'sound': 11311,\n",
       " 'qualities': 9784,\n",
       " 'depending': 2950,\n",
       " 'literature': 6986,\n",
       " 'turns': 13802,\n",
       " 'playing': 9291,\n",
       " 'purchase': 9747,\n",
       " 'with': 14548,\n",
       " 'number': 8618,\n",
       " 'coming': 2361,\n",
       " 'socioeconomically': 11251,\n",
       " 'challenged': 1719,\n",
       " 'goal': 4906,\n",
       " 'resources': 10237,\n",
       " 'the students': 13111,\n",
       " 'middle school': 7736,\n",
       " 'includes students': 5810,\n",
       " 'students multiple': 12178,\n",
       " 'socioeconomic backgrounds': 11246,\n",
       " 'high quality': 5505,\n",
       " 'educational experience': 3485,\n",
       " 'experience the': 4038,\n",
       " 'band program': 1073,\n",
       " 'school one': 10606,\n",
       " 'one largest': 8724,\n",
       " 'we currently': 14337,\n",
       " 'our students': 8939,\n",
       " 'students strive': 12404,\n",
       " 'high level': 5482,\n",
       " 'these new': 13200,\n",
       " 'give opportunities': 4853,\n",
       " 'different types': 3087,\n",
       " 'currently students': 2761,\n",
       " 'students take': 12418,\n",
       " 'take turns': 12751,\n",
       " 'high number': 5487,\n",
       " 'number students': 8621,\n",
       " 'students coming': 11837,\n",
       " 'able provide': 255,\n",
       " 'provide many': 9689,\n",
       " 'many resources': 7466,\n",
       " 'student use': 11663,\n",
       " 'use nannan': 13982,\n",
       " 'purpose': 9750,\n",
       " 'life': 6852,\n",
       " 'taste': 12786,\n",
       " 'eagerly': 3391,\n",
       " 'without': 14575,\n",
       " 'fear': 4248,\n",
       " 'newer': 8414,\n",
       " 'as': 885,\n",
       " 'low': 7194,\n",
       " 'income': 5818,\n",
       " 'area': 807,\n",
       " 'mission': 7783,\n",
       " 'homes': 5591,\n",
       " 'hard': 5219,\n",
       " 'demonstrate': 2941,\n",
       " 'know': 6275,\n",
       " 'desire': 2974,\n",
       " 'option': 8818,\n",
       " 'consists': 2525,\n",
       " 'caring': 1631,\n",
       " 'find': 4324,\n",
       " 'challenge': 1717,\n",
       " 'complete': 2417,\n",
       " 'annual': 743,\n",
       " 'required': 10208,\n",
       " 'standardized': 11442,\n",
       " 'test': 12989,\n",
       " 'called': 1593,\n",
       " 'exam': 3940,\n",
       " 'portion': 9344,\n",
       " 'requires': 10211,\n",
       " 'listen': 6960,\n",
       " 'passages': 9070,\n",
       " 'respond': 10264,\n",
       " 'task': 12783,\n",
       " 'headphones': 5283,\n",
       " 'being': 1196,\n",
       " 'poverty': 9398,\n",
       " 'by': 1559,\n",
       " 'funding': 4683,\n",
       " 'project': 9592,\n",
       " 'future': 4691,\n",
       " 'wisconsin': 14544,\n",
       " 'assessment': 926,\n",
       " 'funded': 4681,\n",
       " 'taken': 12752,\n",
       " 'care': 1622,\n",
       " 'the purpose': 13090,\n",
       " 'without fear': 14582,\n",
       " 'as teacher': 901,\n",
       " 'teacher low': 12840,\n",
       " 'low income': 7196,\n",
       " 'income area': 5819,\n",
       " 'students many': 12155,\n",
       " 'life experiences': 6857,\n",
       " 'experiences possible': 4058,\n",
       " 'many students': 7472,\n",
       " 'come low': 2279,\n",
       " 'income homes': 5829,\n",
       " 'hard working': 5245,\n",
       " 'experience new': 4029,\n",
       " 'my school': 8016,\n",
       " 'school consists': 10471,\n",
       " 'unique ways': 13880,\n",
       " 'support students': 12672,\n",
       " 'students my': 12180,\n",
       " 'students need': 12187,\n",
       " 'need complete': 8223,\n",
       " 'standardized test': 11443,\n",
       " 'requires students': 10212,\n",
       " 'students listen': 12107,\n",
       " 'need headphones': 8243,\n",
       " 'high poverty': 5491,\n",
       " 'poverty community': 9401,\n",
       " 'community not': 2393,\n",
       " 'not students': 8586,\n",
       " 'by funding': 1573,\n",
       " 'funding project': 4684,\n",
       " 'project help': 9603,\n",
       " 'help students': 5406,\n",
       " 'students demonstrate': 11868,\n",
       " 'demonstrate learning': 2942,\n",
       " 'learning important': 6660,\n",
       " 'students required': 12333,\n",
       " 'year the': 14922,\n",
       " 'the headphones': 13054,\n",
       " 'taken care': 12753,\n",
       " 'year year': 14934,\n",
       " 'year nannan': 14901,\n",
       " 'as teacher low': 903,\n",
       " 'teacher low income': 12841,\n",
       " 'low income area': 7197,\n",
       " 'provide students many': 9707,\n",
       " 'many students come': 7476,\n",
       " 'students come low': 11807,\n",
       " 'come low income': 2281,\n",
       " 'low income homes': 7204,\n",
       " 'experience new things': 4030,\n",
       " 'students my students': 12182,\n",
       " 'my students need': 8125,\n",
       " 'high poverty community': 5493,\n",
       " 'by funding project': 1574,\n",
       " 'project help students': 9605,\n",
       " 'as teacher low income': 904,\n",
       " 'many students come low': 7478,\n",
       " 'students come low income': 11808,\n",
       " 'come low income homes': 2284,\n",
       " 'students my students need': 12184,\n",
       " 'teach': 12790,\n",
       " 'lot': 7100,\n",
       " 'nothing': 8611,\n",
       " 'empty': 3575,\n",
       " 'backpack': 1047,\n",
       " 'sure': 12680,\n",
       " 'supplies': 12628,\n",
       " 'no': 8437,\n",
       " 'feels': 4275,\n",
       " 'left': 6766,\n",
       " 'thrive': 13517,\n",
       " 'next': 8420,\n",
       " 'stretch': 11582,\n",
       " 'imaginations': 5714,\n",
       " 'asking': 918,\n",
       " 'crayons': 2650,\n",
       " 'markers': 7520,\n",
       " 'district': 3183,\n",
       " 'families': 4193,\n",
       " 'struggle': 11613,\n",
       " 'everyday': 3914,\n",
       " 'necessities': 8206,\n",
       " 'least': 6755,\n",
       " 'missing': 7782,\n",
       " 'major': 7291,\n",
       " 'supply': 12653,\n",
       " 'very': 14113,\n",
       " 'rarely': 9839,\n",
       " 'ever': 3867,\n",
       " 'list': 6958,\n",
       " 'about': 277,\n",
       " 'me': 7653,\n",
       " 'posters': 9384,\n",
       " 'basic': 1093,\n",
       " 'good': 4940,\n",
       " 'start': 11456,\n",
       " 'even': 3850,\n",
       " 'run': 10376,\n",
       " 'huge': 5659,\n",
       " 'difference': 3044,\n",
       " 'embarrassed': 3547,\n",
       " 'tell': 12969,\n",
       " 'secure': 10821,\n",
       " 'teach low': 12806,\n",
       " 'lot students': 7103,\n",
       " 'come school': 2302,\n",
       " 'school first': 10517,\n",
       " 'first day': 4356,\n",
       " 'love learning': 7139,\n",
       " 'learning school': 6708,\n",
       " 'school safe': 10636,\n",
       " 'want make': 14222,\n",
       " 'make sure': 7357,\n",
       " 'supplies need': 12641,\n",
       " 'no one': 8445,\n",
       " 'students thrive': 12447,\n",
       " 'learn always': 6425,\n",
       " 'crayons markers': 2651,\n",
       " 'not teach': 8590,\n",
       " 'income school': 5833,\n",
       " 'school district': 10489,\n",
       " 'families struggle': 4208,\n",
       " 'school supplies': 10664,\n",
       " 'students least': 12100,\n",
       " 'back school': 1025,\n",
       " 'use supplies': 13995,\n",
       " 'supplies help': 12633,\n",
       " 'day school': 2878,\n",
       " 'school activities': 10445,\n",
       " 'we asking': 14326,\n",
       " 'basic classroom': 1094,\n",
       " 'classroom supplies': 2122,\n",
       " 'help get': 5353,\n",
       " 'even students': 3860,\n",
       " 'students supplies': 12415,\n",
       " 'year this': 14926,\n",
       " 'this project': 13473,\n",
       " 'project make': 9610,\n",
       " 'make huge': 7336,\n",
       " 'huge difference': 5660,\n",
       " 'difference students': 3049,\n",
       " 'students lives': 12117,\n",
       " 'need not': 8267,\n",
       " 'not supplies': 8587,\n",
       " 'area not': 815,\n",
       " 'teach low income': 12807,\n",
       " 'students come school': 11815,\n",
       " 'students love learning': 12133,\n",
       " 'want make sure': 14223,\n",
       " 'my students thrive': 8143,\n",
       " 'low income school': 7208,\n",
       " 'income school district': 5834,\n",
       " 'my students use': 8146,\n",
       " 'first day school': 4357,\n",
       " 'this project make': 13479,\n",
       " 'make huge difference': 7337,\n",
       " 'huge difference students': 5661,\n",
       " 'difference students lives': 3051,\n",
       " 'my students love learning': 8113,\n",
       " 'low income school district': 7209,\n",
       " 'make huge difference students': 7338,\n",
       " 'inspiring': 5949,\n",
       " 'learners': 6566,\n",
       " 'right': 10308,\n",
       " 'each': 3349,\n",
       " 'uses': 14029,\n",
       " 'strengths': 11577,\n",
       " 'contribute': 2569,\n",
       " 'flexible': 4408,\n",
       " 'deserve': 2956,\n",
       " 'reflects': 10128,\n",
       " 'engineers': 3668,\n",
       " 'authors': 989,\n",
       " 'scientists': 10761,\n",
       " 'team': 12882,\n",
       " 'athletes': 948,\n",
       " 'artists': 877,\n",
       " 'in': 5781,\n",
       " 'believe': 1201,\n",
       " 'deserves': 2963,\n",
       " 'succeed': 12565,\n",
       " 'awareness': 1013,\n",
       " 'stress': 11579,\n",
       " 'importance': 5745,\n",
       " 'self': 10856,\n",
       " 'wobble': 14588,\n",
       " 'ability': 196,\n",
       " 'wiggles': 14522,\n",
       " 'otherwise': 8881,\n",
       " 'rigorous': 10319,\n",
       " 'academic': 288,\n",
       " 'tasks': 12785,\n",
       " 'stool': 11542,\n",
       " 'fight': 4305,\n",
       " 'basis': 1108,\n",
       " 'would': 14789,\n",
       " 'really': 10026,\n",
       " 'like': 6903,\n",
       " 'needs': 8310,\n",
       " 'if': 5700,\n",
       " 'furniture': 4689,\n",
       " 'increases': 5862,\n",
       " 'focus': 4439,\n",
       " 'productivity': 9560,\n",
       " 'bring': 1484,\n",
       " 'general': 4742,\n",
       " 'education': 3454,\n",
       " 'classrooms': 2153,\n",
       " 'attain': 954,\n",
       " 'similar': 11016,\n",
       " 'results': 10280,\n",
       " 'promotes': 9647,\n",
       " 'inclusion': 5815,\n",
       " 'simply': 11023,\n",
       " 'physical': 9190,\n",
       " 'planning': 9253,\n",
       " 'success': 12576,\n",
       " 'amongst': 719,\n",
       " 'inspired': 5945,\n",
       " 'group': 5093,\n",
       " 'willing': 14527,\n",
       " 'try': 13778,\n",
       " 'anything': 760,\n",
       " 'your': 14985,\n",
       " 'donation': 3247,\n",
       " 'ensure': 3739,\n",
       " 'fits': 4391,\n",
       " 'rather': 9842,\n",
       " 'each student': 3356,\n",
       " 'classroom community': 2007,\n",
       " 'learn they': 6535,\n",
       " 'classroom environment': 2026,\n",
       " 'in classroom': 5786,\n",
       " 'classroom believe': 1995,\n",
       " 'opportunity succeed': 8808,\n",
       " 'succeed we': 12574,\n",
       " 'we teach': 14393,\n",
       " 'ball chairs': 1065,\n",
       " 'chairs wobble': 1714,\n",
       " 'wobble stools': 14596,\n",
       " 'stools allow': 11544,\n",
       " 'students ability': 11673,\n",
       " 'get wiggles': 4817,\n",
       " 'rigorous academic': 10320,\n",
       " 'students currently': 11861,\n",
       " 'wobble stool': 14595,\n",
       " 'daily basis': 2788,\n",
       " 'would really': 14849,\n",
       " 'like able': 6904,\n",
       " 'provide student': 9702,\n",
       " 'student needs': 11653,\n",
       " 'general education': 4743,\n",
       " 'education classrooms': 3458,\n",
       " 'success students': 12586,\n",
       " 'students this': 12444,\n",
       " 'classroom students': 2118,\n",
       " 'students general': 12005,\n",
       " 'willing try': 14530,\n",
       " 'see students': 10833,\n",
       " 'students succeed': 12412,\n",
       " 'your donation': 14986,\n",
       " 'donation project': 3252,\n",
       " 'project would': 9625,\n",
       " 'ensure student': 3741,\n",
       " 'student classroom': 11638,\n",
       " 'classroom nannan': 2083,\n",
       " 'stools allow students': 11545,\n",
       " 'my students currently': 8064,\n",
       " 'students this project': 12445,\n",
       " 'your donation project': 14988,\n",
       " 'spanish': 11330,\n",
       " 'concept': 2463,\n",
       " 'engaged': 3633,\n",
       " 'maximize': 7635,\n",
       " 'available': 996,\n",
       " 'sing': 11035,\n",
       " 'songs': 11305,\n",
       " 'dance': 2815,\n",
       " 'rhythms': 10300,\n",
       " 'cook': 2584,\n",
       " 'authentic': 986,\n",
       " 'latin': 6401,\n",
       " 'virtually': 14131,\n",
       " 'world': 14745,\n",
       " 'cannot': 1607,\n",
       " 'afford': 496,\n",
       " 'basics': 1107,\n",
       " 'another': 744,\n",
       " 'language': 6333,\n",
       " 'us': 13918,\n",
       " 'software': 11256,\n",
       " 'specific': 11375,\n",
       " 'acquisition': 387,\n",
       " 'given': 4866,\n",
       " 'enhance': 3696,\n",
       " 'listening': 6966,\n",
       " 'writing': 14862,\n",
       " 'creating': 2679,\n",
       " 'record': 10082,\n",
       " 'learned': 6563,\n",
       " 'textbooks': 12998,\n",
       " 'workbooks': 14711,\n",
       " 'provided': 9717,\n",
       " 'instructional': 5969,\n",
       " 'budget': 1507,\n",
       " 'constraints': 2534,\n",
       " 'listed': 6959,\n",
       " 'core': 2600,\n",
       " 'subjects': 12556,\n",
       " 'priority': 9521,\n",
       " 'discouraged': 3148,\n",
       " 'lack': 6315,\n",
       " 'via': 14114,\n",
       " 'engaged learning': 3638,\n",
       " 'students would': 12523,\n",
       " 'would like': 14820,\n",
       " 'they like': 13310,\n",
       " 'world my': 14762,\n",
       " 'students extremely': 11961,\n",
       " 'cannot afford': 1608,\n",
       " 'another language': 745,\n",
       " 'help us': 5444,\n",
       " 'use different': 13955,\n",
       " 'language acquisition': 6334,\n",
       " 'access technology': 341,\n",
       " 'technology enhance': 12921,\n",
       " 'spanish language': 11332,\n",
       " 'language skills': 6360,\n",
       " 'skills they': 11145,\n",
       " 'listening reading': 6970,\n",
       " 'reading writing': 9994,\n",
       " 'they would': 13368,\n",
       " 'due budget': 3331,\n",
       " 'core subjects': 2608,\n",
       " 'my students would': 8158,\n",
       " 'students would like': 12529,\n",
       " 'world my students': 14763,\n",
       " 'my students extremely': 8082,\n",
       " 'would like able': 14821,\n",
       " 'my students not': 8129,\n",
       " 'majority': 7292,\n",
       " 'kids': 6213,\n",
       " 'free': 4548,\n",
       " 'reduce': 10093,\n",
       " 'lunches': 7263,\n",
       " 'involvement': 6059,\n",
       " 'parents': 9028,\n",
       " 'none': 8459,\n",
       " 'dedicated': 2916,\n",
       " 'believes': 1207,\n",
       " 'matter': 7631,\n",
       " 'situation': 11074,\n",
       " 'environments': 3795,\n",
       " '10': 3,\n",
       " 'awesome': 1017,\n",
       " 'require': 10206,\n",
       " 'attention': 968,\n",
       " 'throughout': 13522,\n",
       " 'address': 464,\n",
       " 'concerns': 2475,\n",
       " 'may': 7638,\n",
       " 'expectations': 4016,\n",
       " '34': 96,\n",
       " 'include': 5807,\n",
       " 'individual': 5883,\n",
       " 'assist': 933,\n",
       " ...}"
      ]
     },
     "execution_count": 10,
     "metadata": {},
     "output_type": "execute_result"
    }
   ],
   "source": [
    "bow_model.vocabulary_"
   ]
  },
  {
   "cell_type": "code",
   "execution_count": 11,
   "metadata": {
    "ExecuteTime": {
     "end_time": "2022-08-05T15:01:33.880870Z",
     "start_time": "2022-08-05T15:01:33.867906Z"
    }
   },
   "outputs": [
    {
     "data": {
      "text/plain": [
       "15000"
      ]
     },
     "execution_count": 11,
     "metadata": {},
     "output_type": "execute_result"
    }
   ],
   "source": [
    "len(bow_model.vocabulary_)"
   ]
  },
  {
   "cell_type": "code",
   "execution_count": 12,
   "metadata": {
    "ExecuteTime": {
     "end_time": "2022-08-05T15:02:35.446406Z",
     "start_time": "2022-08-05T15:01:33.885857Z"
    }
   },
   "outputs": [],
   "source": [
    "bow_vec_train = bow_model.transform(x_train['essay'])\n",
    "bow_vec_test = bow_model.transform(x_test['essay'])\n"
   ]
  },
  {
   "cell_type": "code",
   "execution_count": 13,
   "metadata": {
    "ExecuteTime": {
     "end_time": "2022-08-05T15:02:35.462749Z",
     "start_time": "2022-08-05T15:02:35.447373Z"
    }
   },
   "outputs": [
    {
     "data": {
      "text/plain": [
       "(73196, 15000)"
      ]
     },
     "execution_count": 13,
     "metadata": {},
     "output_type": "execute_result"
    }
   ],
   "source": [
    "bow_vec_train.shape"
   ]
  },
  {
   "cell_type": "code",
   "execution_count": 14,
   "metadata": {
    "ExecuteTime": {
     "end_time": "2022-08-05T15:02:35.478652Z",
     "start_time": "2022-08-05T15:02:35.464690Z"
    }
   },
   "outputs": [
    {
     "data": {
      "text/plain": [
       "(36052, 15000)"
      ]
     },
     "execution_count": 14,
     "metadata": {},
     "output_type": "execute_result"
    }
   ],
   "source": [
    "bow_vec_test.shape"
   ]
  },
  {
   "cell_type": "code",
   "execution_count": null,
   "metadata": {},
   "outputs": [],
   "source": []
  },
  {
   "cell_type": "code",
   "execution_count": 15,
   "metadata": {
    "ExecuteTime": {
     "end_time": "2022-08-05T15:02:35.603797Z",
     "start_time": "2022-08-05T15:02:35.480647Z"
    }
   },
   "outputs": [],
   "source": [
    "for i in bow_model.get_feature_names_out():\n",
    "    \n",
    "    features_bow.append(i)\n",
    "    "
   ]
  },
  {
   "cell_type": "markdown",
   "metadata": {},
   "source": [
    "# tf-idf vectorizer"
   ]
  },
  {
   "cell_type": "code",
   "execution_count": 16,
   "metadata": {
    "ExecuteTime": {
     "end_time": "2022-08-05T15:02:35.619758Z",
     "start_time": "2022-08-05T15:02:35.607786Z"
    }
   },
   "outputs": [],
   "source": [
    "tf_idf_model = TfidfVectorizer(min_df = 10, ngram_range=(1,4), max_features=15000)"
   ]
  },
  {
   "cell_type": "code",
   "execution_count": 17,
   "metadata": {
    "ExecuteTime": {
     "end_time": "2022-08-05T15:05:14.688469Z",
     "start_time": "2022-08-05T15:02:35.621748Z"
    }
   },
   "outputs": [
    {
     "data": {
      "text/plain": [
       "TfidfVectorizer(max_features=15000, min_df=10, ngram_range=(1, 4))"
      ]
     },
     "execution_count": 17,
     "metadata": {},
     "output_type": "execute_result"
    }
   ],
   "source": [
    "tf_idf_model.fit(x_train['essay'])"
   ]
  },
  {
   "cell_type": "code",
   "execution_count": 18,
   "metadata": {
    "ExecuteTime": {
     "end_time": "2022-08-05T15:06:16.303593Z",
     "start_time": "2022-08-05T15:05:14.693782Z"
    }
   },
   "outputs": [],
   "source": [
    "tf_idf_vec_train = tf_idf_model.transform(x_train['essay'])\n",
    "tf_idf_vec_test = tf_idf_model.transform(x_test['essay'])\n"
   ]
  },
  {
   "cell_type": "code",
   "execution_count": null,
   "metadata": {},
   "outputs": [],
   "source": []
  },
  {
   "cell_type": "code",
   "execution_count": 19,
   "metadata": {
    "ExecuteTime": {
     "end_time": "2022-08-05T15:06:16.319325Z",
     "start_time": "2022-08-05T15:06:16.305409Z"
    }
   },
   "outputs": [
    {
     "data": {
      "text/plain": [
       "(73196, 15000)"
      ]
     },
     "execution_count": 19,
     "metadata": {},
     "output_type": "execute_result"
    }
   ],
   "source": [
    "tf_idf_vec_train.shape"
   ]
  },
  {
   "cell_type": "code",
   "execution_count": 20,
   "metadata": {
    "ExecuteTime": {
     "end_time": "2022-08-05T15:06:16.335267Z",
     "start_time": "2022-08-05T15:06:16.320305Z"
    }
   },
   "outputs": [
    {
     "data": {
      "text/plain": [
       "(36052, 15000)"
      ]
     },
     "execution_count": 20,
     "metadata": {},
     "output_type": "execute_result"
    }
   ],
   "source": [
    "tf_idf_vec_test.shape"
   ]
  },
  {
   "cell_type": "code",
   "execution_count": null,
   "metadata": {},
   "outputs": [],
   "source": []
  },
  {
   "cell_type": "code",
   "execution_count": 21,
   "metadata": {
    "ExecuteTime": {
     "end_time": "2022-08-05T15:06:16.397146Z",
     "start_time": "2022-08-05T15:06:16.337259Z"
    }
   },
   "outputs": [],
   "source": [
    "for i in tf_idf_model.get_feature_names_out():\n",
    "    features_tfidf.append(i)\n",
    "    \n",
    "    "
   ]
  },
  {
   "cell_type": "code",
   "execution_count": 22,
   "metadata": {
    "ExecuteTime": {
     "end_time": "2022-08-05T15:06:16.413098Z",
     "start_time": "2022-08-05T15:06:16.399138Z"
    }
   },
   "outputs": [
    {
     "data": {
      "text/plain": [
       "['00', '000', '000 students', '10', '10 students']"
      ]
     },
     "execution_count": 22,
     "metadata": {},
     "output_type": "execute_result"
    }
   ],
   "source": [
    "features_tfidf[:5]"
   ]
  },
  {
   "cell_type": "code",
   "execution_count": 23,
   "metadata": {
    "ExecuteTime": {
     "end_time": "2022-08-05T15:06:16.429057Z",
     "start_time": "2022-08-05T15:06:16.414096Z"
    }
   },
   "outputs": [],
   "source": [
    "for i in range(15000):\n",
    "    \n",
    "    if features_bow[i] != features_tfidf[i]:\n",
    "        print(features_bow[i], features_tfidf[i])\n",
    "        break"
   ]
  },
  {
   "cell_type": "code",
   "execution_count": null,
   "metadata": {},
   "outputs": [],
   "source": []
  },
  {
   "cell_type": "markdown",
   "metadata": {},
   "source": [
    "# One hot encoding on categorical feature"
   ]
  },
  {
   "cell_type": "markdown",
   "metadata": {},
   "source": [
    "<dt>categorical features</dt>\n",
    "<dd> - teacher_prefix</dd>\n",
    "<dd> - project_grade_category</dd>\n",
    "<dd> - school_state</dd>\n",
    "<dd> - clean_categories</dd>\n",
    "<dd> - clean_subcategories</dd>"
   ]
  },
  {
   "cell_type": "markdown",
   "metadata": {},
   "source": [
    "## teacher_prefix one hot encoding"
   ]
  },
  {
   "cell_type": "code",
   "execution_count": 24,
   "metadata": {
    "ExecuteTime": {
     "end_time": "2022-08-05T15:06:16.445079Z",
     "start_time": "2022-08-05T15:06:16.430054Z"
    }
   },
   "outputs": [],
   "source": [
    "enc = OneHotEncoder(handle_unknown='ignore')"
   ]
  },
  {
   "cell_type": "code",
   "execution_count": 25,
   "metadata": {
    "ExecuteTime": {
     "end_time": "2022-08-05T15:06:16.460970Z",
     "start_time": "2022-08-05T15:06:16.446011Z"
    }
   },
   "outputs": [
    {
     "data": {
      "text/plain": [
       "array(['x0_dr', 'x0_mr', 'x0_mrs', 'x0_ms', 'x0_teacher'], dtype=object)"
      ]
     },
     "execution_count": 25,
     "metadata": {},
     "output_type": "execute_result"
    }
   ],
   "source": [
    "enc.fit(x_train['teacher_prefix'].to_numpy().reshape(-1, 1))\n",
    "enc.get_feature_names_out()"
   ]
  },
  {
   "cell_type": "code",
   "execution_count": 26,
   "metadata": {
    "ExecuteTime": {
     "end_time": "2022-08-05T15:06:16.491889Z",
     "start_time": "2022-08-05T15:06:16.462967Z"
    }
   },
   "outputs": [],
   "source": [
    "teacher_prefix_train_ohc = enc.transform(x_train['teacher_prefix'].to_numpy().reshape(-1, 1))\n",
    "teacher_prefix_test_ohc = enc.transform(x_test['teacher_prefix'].to_numpy().reshape(-1, 1))\n"
   ]
  },
  {
   "cell_type": "code",
   "execution_count": 27,
   "metadata": {
    "ExecuteTime": {
     "end_time": "2022-08-05T15:06:16.506848Z",
     "start_time": "2022-08-05T15:06:16.493884Z"
    }
   },
   "outputs": [
    {
     "name": "stdout",
     "output_type": "stream",
     "text": [
      "(73196, 5)\n"
     ]
    }
   ],
   "source": [
    "print(teacher_prefix_train_ohc.shape)"
   ]
  },
  {
   "cell_type": "code",
   "execution_count": 28,
   "metadata": {
    "ExecuteTime": {
     "end_time": "2022-08-05T15:06:16.522805Z",
     "start_time": "2022-08-05T15:06:16.509864Z"
    }
   },
   "outputs": [
    {
     "data": {
      "text/plain": [
       "(36052, 5)"
      ]
     },
     "execution_count": 28,
     "metadata": {},
     "output_type": "execute_result"
    }
   ],
   "source": [
    "teacher_prefix_test_ohc.shape"
   ]
  },
  {
   "cell_type": "code",
   "execution_count": 29,
   "metadata": {
    "ExecuteTime": {
     "end_time": "2022-08-05T15:06:16.538772Z",
     "start_time": "2022-08-05T15:06:16.524801Z"
    }
   },
   "outputs": [],
   "source": [
    "for i in enc.get_feature_names_out():\n",
    "    features_bow.append(i)\n",
    "    features_tfidf.append(i)"
   ]
  },
  {
   "cell_type": "code",
   "execution_count": null,
   "metadata": {},
   "outputs": [],
   "source": []
  },
  {
   "cell_type": "markdown",
   "metadata": {},
   "source": [
    "## project_grade_category one hot encoding"
   ]
  },
  {
   "cell_type": "code",
   "execution_count": 30,
   "metadata": {
    "ExecuteTime": {
     "end_time": "2022-08-05T15:06:16.554721Z",
     "start_time": "2022-08-05T15:06:16.540757Z"
    }
   },
   "outputs": [
    {
     "data": {
      "text/plain": [
       "array(['x0_grades_3_5', 'x0_grades_6_8', 'x0_grades_9_12',\n",
       "       'x0_grades_prek_2'], dtype=object)"
      ]
     },
     "execution_count": 30,
     "metadata": {},
     "output_type": "execute_result"
    }
   ],
   "source": [
    "enc.fit(x_train['project_grade_category'].to_numpy().reshape(-1,1))\n",
    "enc.get_feature_names_out()"
   ]
  },
  {
   "cell_type": "code",
   "execution_count": 31,
   "metadata": {
    "ExecuteTime": {
     "end_time": "2022-08-05T15:06:16.586635Z",
     "start_time": "2022-08-05T15:06:16.556715Z"
    }
   },
   "outputs": [],
   "source": [
    "project_grade_train_ohc = enc.transform(x_train['project_grade_category'].to_numpy().reshape(-1, 1))\n",
    "project_grade_test_ohc = enc.transform(x_test['project_grade_category'].to_numpy().reshape(-1, 1))\n"
   ]
  },
  {
   "cell_type": "code",
   "execution_count": 32,
   "metadata": {
    "ExecuteTime": {
     "end_time": "2022-08-05T15:06:16.602592Z",
     "start_time": "2022-08-05T15:06:16.588639Z"
    }
   },
   "outputs": [
    {
     "data": {
      "text/plain": [
       "(73196, 4)"
      ]
     },
     "execution_count": 32,
     "metadata": {},
     "output_type": "execute_result"
    }
   ],
   "source": [
    "project_grade_train_ohc.shape"
   ]
  },
  {
   "cell_type": "code",
   "execution_count": 33,
   "metadata": {
    "ExecuteTime": {
     "end_time": "2022-08-05T15:06:16.618550Z",
     "start_time": "2022-08-05T15:06:16.603590Z"
    }
   },
   "outputs": [
    {
     "data": {
      "text/plain": [
       "(36052, 4)"
      ]
     },
     "execution_count": 33,
     "metadata": {},
     "output_type": "execute_result"
    }
   ],
   "source": [
    "project_grade_test_ohc.shape"
   ]
  },
  {
   "cell_type": "code",
   "execution_count": 34,
   "metadata": {
    "ExecuteTime": {
     "end_time": "2022-08-05T15:06:16.634508Z",
     "start_time": "2022-08-05T15:06:16.620545Z"
    }
   },
   "outputs": [],
   "source": [
    "for i in enc.get_feature_names_out():\n",
    "    \n",
    "    features_bow.append(i)\n",
    "    features_tfidf.append(i)"
   ]
  },
  {
   "cell_type": "code",
   "execution_count": null,
   "metadata": {},
   "outputs": [],
   "source": []
  },
  {
   "cell_type": "markdown",
   "metadata": {},
   "source": [
    "## school_state one hot encoding"
   ]
  },
  {
   "cell_type": "code",
   "execution_count": 35,
   "metadata": {
    "ExecuteTime": {
     "end_time": "2022-08-05T15:06:16.650469Z",
     "start_time": "2022-08-05T15:06:16.637498Z"
    }
   },
   "outputs": [
    {
     "data": {
      "text/plain": [
       "array(['x0_ak', 'x0_al', 'x0_ar', 'x0_az', 'x0_ca', 'x0_co', 'x0_ct',\n",
       "       'x0_dc', 'x0_de', 'x0_fl', 'x0_ga', 'x0_hi', 'x0_ia', 'x0_id',\n",
       "       'x0_il', 'x0_in', 'x0_ks', 'x0_ky', 'x0_la', 'x0_ma', 'x0_md',\n",
       "       'x0_me', 'x0_mi', 'x0_mn', 'x0_mo', 'x0_ms', 'x0_mt', 'x0_nc',\n",
       "       'x0_nd', 'x0_ne', 'x0_nh', 'x0_nj', 'x0_nm', 'x0_nv', 'x0_ny',\n",
       "       'x0_oh', 'x0_ok', 'x0_or', 'x0_pa', 'x0_ri', 'x0_sc', 'x0_sd',\n",
       "       'x0_tn', 'x0_tx', 'x0_ut', 'x0_va', 'x0_vt', 'x0_wa', 'x0_wi',\n",
       "       'x0_wv', 'x0_wy'], dtype=object)"
      ]
     },
     "execution_count": 35,
     "metadata": {},
     "output_type": "execute_result"
    }
   ],
   "source": [
    "enc.fit(x_train['school_state'].to_numpy().reshape(-1,1))\n",
    "enc.get_feature_names_out()"
   ]
  },
  {
   "cell_type": "code",
   "execution_count": 36,
   "metadata": {
    "ExecuteTime": {
     "end_time": "2022-08-05T15:06:16.695367Z",
     "start_time": "2022-08-05T15:06:16.660446Z"
    }
   },
   "outputs": [],
   "source": [
    "school_state_train_ohc = enc.transform(x_train['school_state'].to_numpy().reshape(-1, 1))\n",
    "school_state_test_ohc = enc.transform(x_test['school_state'].to_numpy().reshape(-1, 1))\n"
   ]
  },
  {
   "cell_type": "code",
   "execution_count": 37,
   "metadata": {
    "ExecuteTime": {
     "end_time": "2022-08-05T15:06:16.711303Z",
     "start_time": "2022-08-05T15:06:16.697342Z"
    }
   },
   "outputs": [
    {
     "data": {
      "text/plain": [
       "(73196, 51)"
      ]
     },
     "execution_count": 37,
     "metadata": {},
     "output_type": "execute_result"
    }
   ],
   "source": [
    "school_state_train_ohc.shape"
   ]
  },
  {
   "cell_type": "code",
   "execution_count": 38,
   "metadata": {
    "ExecuteTime": {
     "end_time": "2022-08-05T15:06:16.727262Z",
     "start_time": "2022-08-05T15:06:16.713297Z"
    }
   },
   "outputs": [
    {
     "data": {
      "text/plain": [
       "(36052, 51)"
      ]
     },
     "execution_count": 38,
     "metadata": {},
     "output_type": "execute_result"
    }
   ],
   "source": [
    "school_state_test_ohc.shape"
   ]
  },
  {
   "cell_type": "code",
   "execution_count": null,
   "metadata": {},
   "outputs": [],
   "source": []
  },
  {
   "cell_type": "code",
   "execution_count": 39,
   "metadata": {
    "ExecuteTime": {
     "end_time": "2022-08-05T15:06:16.743219Z",
     "start_time": "2022-08-05T15:06:16.730251Z"
    }
   },
   "outputs": [],
   "source": [
    "for i in enc.get_feature_names_out():\n",
    "    \n",
    "    features_bow.append(i)\n",
    "    features_tfidf.append(i)"
   ]
  },
  {
   "cell_type": "markdown",
   "metadata": {},
   "source": [
    "## clean_categories one hot encoding"
   ]
  },
  {
   "cell_type": "code",
   "execution_count": 40,
   "metadata": {
    "ExecuteTime": {
     "end_time": "2022-08-05T15:06:16.979532Z",
     "start_time": "2022-08-05T15:06:16.745226Z"
    }
   },
   "outputs": [
    {
     "data": {
      "text/plain": [
       "{'math_science': 5,\n",
       " 'literacy_language': 4,\n",
       " 'health_sports': 2,\n",
       " 'music_arts': 6,\n",
       " 'specialneeds': 7,\n",
       " 'history_civics': 3,\n",
       " 'appliedlearning': 0,\n",
       " 'warmth': 8,\n",
       " 'care_hunger': 1}"
      ]
     },
     "execution_count": 40,
     "metadata": {},
     "output_type": "execute_result"
    }
   ],
   "source": [
    "bow_model = CountVectorizer()\n",
    "bow_model.fit(x_train['clean_categories'])\n",
    "bow_model.vocabulary_"
   ]
  },
  {
   "cell_type": "code",
   "execution_count": 41,
   "metadata": {
    "ExecuteTime": {
     "end_time": "2022-08-05T15:06:17.318125Z",
     "start_time": "2022-08-05T15:06:16.980437Z"
    }
   },
   "outputs": [],
   "source": [
    "clean_categories_train_ohc = bow_model.transform(x_train['clean_categories'])\n",
    "clean_categories_test_ohc = bow_model.transform(x_test['clean_categories'])\n"
   ]
  },
  {
   "cell_type": "code",
   "execution_count": 42,
   "metadata": {
    "ExecuteTime": {
     "end_time": "2022-08-05T15:06:17.333545Z",
     "start_time": "2022-08-05T15:06:17.319035Z"
    }
   },
   "outputs": [
    {
     "data": {
      "text/plain": [
       "(73196, 9)"
      ]
     },
     "execution_count": 42,
     "metadata": {},
     "output_type": "execute_result"
    }
   ],
   "source": [
    "clean_categories_train_ohc.shape"
   ]
  },
  {
   "cell_type": "code",
   "execution_count": 43,
   "metadata": {
    "ExecuteTime": {
     "end_time": "2022-08-05T15:06:17.348603Z",
     "start_time": "2022-08-05T15:06:17.336537Z"
    }
   },
   "outputs": [
    {
     "data": {
      "text/plain": [
       "(36052, 9)"
      ]
     },
     "execution_count": 43,
     "metadata": {},
     "output_type": "execute_result"
    }
   ],
   "source": [
    "clean_categories_test_ohc.shape"
   ]
  },
  {
   "cell_type": "code",
   "execution_count": null,
   "metadata": {},
   "outputs": [],
   "source": []
  },
  {
   "cell_type": "code",
   "execution_count": 44,
   "metadata": {
    "ExecuteTime": {
     "end_time": "2022-08-05T15:06:17.364551Z",
     "start_time": "2022-08-05T15:06:17.351480Z"
    }
   },
   "outputs": [],
   "source": [
    "for i in bow_model.get_feature_names_out():\n",
    "    \n",
    "    features_bow.append(i)\n",
    "    features_tfidf.append(i)"
   ]
  },
  {
   "cell_type": "code",
   "execution_count": null,
   "metadata": {},
   "outputs": [],
   "source": []
  },
  {
   "cell_type": "code",
   "execution_count": null,
   "metadata": {},
   "outputs": [],
   "source": []
  },
  {
   "cell_type": "markdown",
   "metadata": {},
   "source": [
    "## clean_sub_categories one hot encoding"
   ]
  },
  {
   "cell_type": "code",
   "execution_count": 45,
   "metadata": {
    "ExecuteTime": {
     "end_time": "2022-08-05T15:06:17.633803Z",
     "start_time": "2022-08-05T15:06:17.367515Z"
    }
   },
   "outputs": [
    {
     "data": {
      "text/plain": [
       "{'appliedsciences': 0,\n",
       " 'literacy': 17,\n",
       " 'health_wellness': 15,\n",
       " 'nutritioneducation': 21,\n",
       " 'mathematics': 19,\n",
       " 'performingarts': 24,\n",
       " 'literature_writing': 18,\n",
       " 'visualarts': 28,\n",
       " 'specialneeds': 26,\n",
       " 'foreignlanguages': 12,\n",
       " 'financialliteracy': 11,\n",
       " 'esl': 9,\n",
       " 'history_geography': 16,\n",
       " 'socialsciences': 25,\n",
       " 'gym_fitness': 13,\n",
       " 'teamsports': 27,\n",
       " 'charactereducation': 2,\n",
       " 'earlydevelopment': 6,\n",
       " 'music': 20,\n",
       " 'health_lifescience': 14,\n",
       " 'other': 22,\n",
       " 'warmth': 29,\n",
       " 'care_hunger': 1,\n",
       " 'civics_government': 3,\n",
       " 'environmentalscience': 8,\n",
       " 'extracurricular': 10,\n",
       " 'college_careerprep': 4,\n",
       " 'communityservice': 5,\n",
       " 'parentinvolvement': 23,\n",
       " 'economics': 7}"
      ]
     },
     "execution_count": 45,
     "metadata": {},
     "output_type": "execute_result"
    }
   ],
   "source": [
    "bow_model.fit(x_train['clean_subcategories'])\n",
    "bow_model.vocabulary_"
   ]
  },
  {
   "cell_type": "code",
   "execution_count": 46,
   "metadata": {
    "ExecuteTime": {
     "end_time": "2022-08-05T15:06:18.009792Z",
     "start_time": "2022-08-05T15:06:17.635796Z"
    }
   },
   "outputs": [],
   "source": [
    "clean_subcategories_train_ohc = bow_model.transform(x_train['clean_subcategories'])\n",
    "clean_subcategories_test_ohc = bow_model.transform(x_test['clean_subcategories'])\n"
   ]
  },
  {
   "cell_type": "code",
   "execution_count": 47,
   "metadata": {
    "ExecuteTime": {
     "end_time": "2022-08-05T15:06:18.025749Z",
     "start_time": "2022-08-05T15:06:18.010790Z"
    }
   },
   "outputs": [
    {
     "data": {
      "text/plain": [
       "(73196, 30)"
      ]
     },
     "execution_count": 47,
     "metadata": {},
     "output_type": "execute_result"
    }
   ],
   "source": [
    "clean_subcategories_train_ohc.shape"
   ]
  },
  {
   "cell_type": "code",
   "execution_count": 48,
   "metadata": {
    "ExecuteTime": {
     "end_time": "2022-08-05T15:06:18.040713Z",
     "start_time": "2022-08-05T15:06:18.028744Z"
    }
   },
   "outputs": [
    {
     "data": {
      "text/plain": [
       "(36052, 30)"
      ]
     },
     "execution_count": 48,
     "metadata": {},
     "output_type": "execute_result"
    }
   ],
   "source": [
    "clean_subcategories_test_ohc.shape"
   ]
  },
  {
   "cell_type": "code",
   "execution_count": null,
   "metadata": {},
   "outputs": [],
   "source": []
  },
  {
   "cell_type": "code",
   "execution_count": 49,
   "metadata": {
    "ExecuteTime": {
     "end_time": "2022-08-05T15:06:18.055676Z",
     "start_time": "2022-08-05T15:06:18.042725Z"
    }
   },
   "outputs": [],
   "source": [
    "for i in bow_model.get_feature_names_out():\n",
    "    \n",
    "    features_bow.append(i)\n",
    "    features_tfidf.append(i)"
   ]
  },
  {
   "cell_type": "code",
   "execution_count": null,
   "metadata": {},
   "outputs": [],
   "source": []
  },
  {
   "cell_type": "code",
   "execution_count": null,
   "metadata": {},
   "outputs": [],
   "source": []
  },
  {
   "cell_type": "markdown",
   "metadata": {},
   "source": [
    "# handling numerical feature"
   ]
  },
  {
   "cell_type": "markdown",
   "metadata": {},
   "source": [
    "## Normalizing price feature"
   ]
  },
  {
   "cell_type": "code",
   "execution_count": 50,
   "metadata": {
    "ExecuteTime": {
     "end_time": "2022-08-05T15:06:18.070631Z",
     "start_time": "2022-08-05T15:06:18.057685Z"
    }
   },
   "outputs": [],
   "source": [
    "norm = Normalizer()"
   ]
  },
  {
   "cell_type": "code",
   "execution_count": 51,
   "metadata": {
    "ExecuteTime": {
     "end_time": "2022-08-05T15:06:18.086589Z",
     "start_time": "2022-08-05T15:06:18.072647Z"
    }
   },
   "outputs": [],
   "source": [
    "price_norm_train = norm.fit_transform(x_train['price'].to_numpy().reshape(1,-1)).reshape(-1,1)\n",
    "price_norm_test = norm.fit_transform(x_test['price'].to_numpy().reshape(1,-1)).reshape(-1,1)\n"
   ]
  },
  {
   "cell_type": "code",
   "execution_count": 52,
   "metadata": {
    "ExecuteTime": {
     "end_time": "2022-08-05T15:06:18.102548Z",
     "start_time": "2022-08-05T15:06:18.088584Z"
    }
   },
   "outputs": [
    {
     "data": {
      "text/plain": [
       "array([[0.00062935],\n",
       "       [0.0016022 ],\n",
       "       [0.00400259],\n",
       "       ...,\n",
       "       [0.00050118],\n",
       "       [0.00118794],\n",
       "       [0.00137144]])"
      ]
     },
     "execution_count": 52,
     "metadata": {},
     "output_type": "execute_result"
    }
   ],
   "source": [
    "price_norm_train"
   ]
  },
  {
   "cell_type": "markdown",
   "metadata": {},
   "source": [
    "## Normalizing teacher_number_of_previously_posted_projects"
   ]
  },
  {
   "cell_type": "code",
   "execution_count": 53,
   "metadata": {
    "ExecuteTime": {
     "end_time": "2022-08-05T15:06:18.118504Z",
     "start_time": "2022-08-05T15:06:18.104569Z"
    }
   },
   "outputs": [],
   "source": [
    "prev_posted_project_norm_train = norm.fit_transform(x_train['teacher_number_of_previously_posted_projects'].to_numpy().reshape(1,-1)).reshape(-1,1)\n",
    "prev_posted_project_norm_test = norm.fit_transform(x_test['teacher_number_of_previously_posted_projects'].to_numpy().reshape(1,-1)).reshape(-1,1)\n",
    "\n",
    "\n"
   ]
  },
  {
   "cell_type": "code",
   "execution_count": null,
   "metadata": {},
   "outputs": [],
   "source": []
  },
  {
   "cell_type": "markdown",
   "metadata": {},
   "source": [
    "# Stacking all features"
   ]
  },
  {
   "cell_type": "markdown",
   "metadata": {},
   "source": [
    "## stacking all features with essay bow"
   ]
  },
  {
   "cell_type": "code",
   "execution_count": 54,
   "metadata": {
    "ExecuteTime": {
     "end_time": "2022-08-05T15:06:18.742835Z",
     "start_time": "2022-08-05T15:06:18.120498Z"
    }
   },
   "outputs": [],
   "source": [
    "bow_set_feature_train = hstack((bow_vec_train, teacher_prefix_train_ohc, project_grade_train_ohc, \n",
    "                                school_state_train_ohc, clean_categories_train_ohc,\n",
    "                               clean_subcategories_train_ohc, price_norm_train, prev_posted_project_norm_train)).tocsr()\n",
    "\n",
    "bow_set_feature_test = hstack((bow_vec_test, teacher_prefix_test_ohc, project_grade_test_ohc, \n",
    "                              school_state_test_ohc, clean_categories_test_ohc, \n",
    "                              clean_subcategories_test_ohc, price_norm_test, prev_posted_project_norm_test)).tocsr()\n",
    "\n"
   ]
  },
  {
   "cell_type": "code",
   "execution_count": 55,
   "metadata": {
    "ExecuteTime": {
     "end_time": "2022-08-05T15:06:18.758850Z",
     "start_time": "2022-08-05T15:06:18.744836Z"
    }
   },
   "outputs": [
    {
     "data": {
      "text/plain": [
       "(73196, 15101)"
      ]
     },
     "execution_count": 55,
     "metadata": {},
     "output_type": "execute_result"
    }
   ],
   "source": [
    "bow_set_feature_train.shape"
   ]
  },
  {
   "cell_type": "code",
   "execution_count": 56,
   "metadata": {
    "ExecuteTime": {
     "end_time": "2022-08-05T15:06:18.774778Z",
     "start_time": "2022-08-05T15:06:18.760806Z"
    }
   },
   "outputs": [
    {
     "data": {
      "text/plain": [
       "(73196, 15101)"
      ]
     },
     "execution_count": 56,
     "metadata": {},
     "output_type": "execute_result"
    }
   ],
   "source": [
    "bow_set_feature_train.shape"
   ]
  },
  {
   "cell_type": "code",
   "execution_count": null,
   "metadata": {},
   "outputs": [],
   "source": []
  },
  {
   "cell_type": "markdown",
   "metadata": {},
   "source": [
    "### saving all stacked Bag of words features in pickle file so we can use it later"
   ]
  },
  {
   "cell_type": "code",
   "execution_count": 57,
   "metadata": {
    "ExecuteTime": {
     "end_time": "2022-08-05T15:06:20.366216Z",
     "start_time": "2022-08-05T15:06:18.776762Z"
    }
   },
   "outputs": [],
   "source": [
    "import pickle\n",
    "\n",
    "file = 'bow_feature_train_5000_features.pkl'\n",
    "\n",
    "fileObj = open(file, 'wb')\n",
    "\n",
    "pickle.dump(bow_set_feature_train, fileObj)\n",
    "fileObj.close()\n"
   ]
  },
  {
   "cell_type": "code",
   "execution_count": 58,
   "metadata": {
    "ExecuteTime": {
     "end_time": "2022-08-05T15:06:20.710136Z",
     "start_time": "2022-08-05T15:06:20.369212Z"
    }
   },
   "outputs": [],
   "source": [
    "file = 'bow_feature_test_5000_features.pkl'\n",
    "\n",
    "fileObj = open(file, 'wb')\n",
    "\n",
    "pickle.dump(bow_set_feature_test, fileObj)\n",
    "fileObj.close()\n"
   ]
  },
  {
   "cell_type": "code",
   "execution_count": null,
   "metadata": {
    "ExecuteTime": {
     "end_time": "2022-07-24T12:50:02.854678Z",
     "start_time": "2022-07-24T12:50:02.823765Z"
    }
   },
   "outputs": [],
   "source": [
    "\n"
   ]
  },
  {
   "cell_type": "code",
   "execution_count": null,
   "metadata": {},
   "outputs": [],
   "source": []
  },
  {
   "cell_type": "code",
   "execution_count": null,
   "metadata": {},
   "outputs": [],
   "source": []
  },
  {
   "cell_type": "markdown",
   "metadata": {},
   "source": [
    "## stacking all features with essay tf-idf"
   ]
  },
  {
   "cell_type": "code",
   "execution_count": 59,
   "metadata": {
    "ExecuteTime": {
     "end_time": "2022-08-05T15:06:21.758800Z",
     "start_time": "2022-08-05T15:06:20.711134Z"
    }
   },
   "outputs": [],
   "source": [
    "tf_idf_Set_feature_train = hstack((tf_idf_vec_train, teacher_prefix_train_ohc, project_grade_train_ohc, \n",
    "                                school_state_train_ohc, clean_categories_train_ohc,\n",
    "                               clean_subcategories_train_ohc, price_norm_train, prev_posted_project_norm_train)).tocsr()\n",
    "\n",
    "\n",
    "tf_idf_set_feature_test = hstack((tf_idf_vec_test, teacher_prefix_test_ohc, project_grade_test_ohc, \n",
    "                              school_state_test_ohc, clean_categories_test_ohc, \n",
    "                              clean_subcategories_test_ohc, price_norm_test, prev_posted_project_norm_test)).tocsr()\n",
    "\n"
   ]
  },
  {
   "cell_type": "code",
   "execution_count": 60,
   "metadata": {
    "ExecuteTime": {
     "end_time": "2022-08-05T15:06:21.773892Z",
     "start_time": "2022-08-05T15:06:21.759787Z"
    }
   },
   "outputs": [
    {
     "data": {
      "text/plain": [
       "(73196, 15101)"
      ]
     },
     "execution_count": 60,
     "metadata": {},
     "output_type": "execute_result"
    }
   ],
   "source": [
    "tf_idf_Set_feature_train.shape"
   ]
  },
  {
   "cell_type": "code",
   "execution_count": 61,
   "metadata": {
    "ExecuteTime": {
     "end_time": "2022-08-05T15:06:21.789839Z",
     "start_time": "2022-08-05T15:06:21.774876Z"
    }
   },
   "outputs": [
    {
     "data": {
      "text/plain": [
       "(36052, 15101)"
      ]
     },
     "execution_count": 61,
     "metadata": {},
     "output_type": "execute_result"
    }
   ],
   "source": [
    "tf_idf_set_feature_test.shape"
   ]
  },
  {
   "cell_type": "code",
   "execution_count": null,
   "metadata": {},
   "outputs": [],
   "source": []
  },
  {
   "cell_type": "code",
   "execution_count": null,
   "metadata": {},
   "outputs": [],
   "source": []
  },
  {
   "cell_type": "markdown",
   "metadata": {},
   "source": [
    "### saving all stacked Bag of words features in pickle file so we can use it later\n"
   ]
  },
  {
   "cell_type": "code",
   "execution_count": 62,
   "metadata": {
    "ExecuteTime": {
     "end_time": "2022-08-05T15:06:23.012049Z",
     "start_time": "2022-08-05T15:06:21.790835Z"
    }
   },
   "outputs": [],
   "source": [
    "\n",
    "# saving tfidf train stacked features\n",
    "file = 'tfidf_feature_train_5000_features.pkl'\n",
    "\n",
    "fileObj = open(file, 'wb')\n",
    "\n",
    "pickle.dump(bow_set_feature_train, fileObj)\n",
    "fileObj.close()\n"
   ]
  },
  {
   "cell_type": "code",
   "execution_count": 63,
   "metadata": {
    "ExecuteTime": {
     "end_time": "2022-08-05T15:06:24.559232Z",
     "start_time": "2022-08-05T15:06:23.014045Z"
    }
   },
   "outputs": [],
   "source": [
    "# saving tfidf test stacked features\n",
    "\n",
    "file = 'tfidf_feature_test_5000_features.pkl'\n",
    "\n",
    "fileObj = open(file, 'wb')\n",
    "\n",
    "pickle.dump(bow_set_feature_train, fileObj)\n",
    "fileObj.close()"
   ]
  },
  {
   "cell_type": "code",
   "execution_count": null,
   "metadata": {},
   "outputs": [],
   "source": []
  },
  {
   "cell_type": "code",
   "execution_count": null,
   "metadata": {},
   "outputs": [],
   "source": []
  },
  {
   "cell_type": "markdown",
   "metadata": {},
   "source": [
    "# model Building (BOW)--- Hyperparameter tunning using GridSearchCV"
   ]
  },
  {
   "cell_type": "code",
   "execution_count": 64,
   "metadata": {
    "ExecuteTime": {
     "end_time": "2022-08-05T15:06:24.575036Z",
     "start_time": "2022-08-05T15:06:24.560229Z"
    }
   },
   "outputs": [],
   "source": [
    "model = MultinomialNB(class_prior=[0.5,0.5])"
   ]
  },
  {
   "cell_type": "code",
   "execution_count": 65,
   "metadata": {
    "ExecuteTime": {
     "end_time": "2022-08-05T15:06:24.590974Z",
     "start_time": "2022-08-05T15:06:24.576008Z"
    }
   },
   "outputs": [
    {
     "data": {
      "text/plain": [
       "{'alpha': [0.001, 0.01, 0.1, 1, 10, 100, 1000, 10000]}"
      ]
     },
     "execution_count": 65,
     "metadata": {},
     "output_type": "execute_result"
    }
   ],
   "source": [
    "alpha_val = {'alpha': [10**i for i in range(-3, 5)]}\n",
    "alpha_val"
   ]
  },
  {
   "cell_type": "code",
   "execution_count": 66,
   "metadata": {
    "ExecuteTime": {
     "end_time": "2022-08-05T15:06:24.606959Z",
     "start_time": "2022-08-05T15:06:24.592980Z"
    }
   },
   "outputs": [],
   "source": [
    "clf = GridSearchCV(estimator=model, param_grid=alpha_val, scoring='roc_auc', return_train_score=True, verbose=True, cv=5, n_jobs=-1)"
   ]
  },
  {
   "cell_type": "code",
   "execution_count": 67,
   "metadata": {
    "ExecuteTime": {
     "end_time": "2022-08-05T15:06:29.869610Z",
     "start_time": "2022-08-05T15:06:24.608953Z"
    }
   },
   "outputs": [
    {
     "name": "stdout",
     "output_type": "stream",
     "text": [
      "Fitting 5 folds for each of 8 candidates, totalling 40 fits\n"
     ]
    },
    {
     "data": {
      "text/plain": [
       "GridSearchCV(cv=5, estimator=MultinomialNB(class_prior=[0.5, 0.5]), n_jobs=-1,\n",
       "             param_grid={'alpha': [0.001, 0.01, 0.1, 1, 10, 100, 1000, 10000]},\n",
       "             return_train_score=True, scoring='roc_auc', verbose=True)"
      ]
     },
     "execution_count": 67,
     "metadata": {},
     "output_type": "execute_result"
    }
   ],
   "source": [
    "clf.fit(bow_set_feature_train, y_train)"
   ]
  },
  {
   "cell_type": "code",
   "execution_count": 68,
   "metadata": {
    "ExecuteTime": {
     "end_time": "2022-08-05T15:06:29.900527Z",
     "start_time": "2022-08-05T15:06:29.873605Z"
    }
   },
   "outputs": [
    {
     "data": {
      "text/html": [
       "<div>\n",
       "<style scoped>\n",
       "    .dataframe tbody tr th:only-of-type {\n",
       "        vertical-align: middle;\n",
       "    }\n",
       "\n",
       "    .dataframe tbody tr th {\n",
       "        vertical-align: top;\n",
       "    }\n",
       "\n",
       "    .dataframe thead th {\n",
       "        text-align: right;\n",
       "    }\n",
       "</style>\n",
       "<table border=\"1\" class=\"dataframe\">\n",
       "  <thead>\n",
       "    <tr style=\"text-align: right;\">\n",
       "      <th></th>\n",
       "      <th>mean_fit_time</th>\n",
       "      <th>std_fit_time</th>\n",
       "      <th>mean_score_time</th>\n",
       "      <th>std_score_time</th>\n",
       "      <th>param_alpha</th>\n",
       "      <th>params</th>\n",
       "      <th>split0_test_score</th>\n",
       "      <th>split1_test_score</th>\n",
       "      <th>split2_test_score</th>\n",
       "      <th>split3_test_score</th>\n",
       "      <th>...</th>\n",
       "      <th>mean_test_score</th>\n",
       "      <th>std_test_score</th>\n",
       "      <th>rank_test_score</th>\n",
       "      <th>split0_train_score</th>\n",
       "      <th>split1_train_score</th>\n",
       "      <th>split2_train_score</th>\n",
       "      <th>split3_train_score</th>\n",
       "      <th>split4_train_score</th>\n",
       "      <th>mean_train_score</th>\n",
       "      <th>std_train_score</th>\n",
       "    </tr>\n",
       "  </thead>\n",
       "  <tbody>\n",
       "    <tr>\n",
       "      <th>0</th>\n",
       "      <td>0.532776</td>\n",
       "      <td>0.033152</td>\n",
       "      <td>0.055451</td>\n",
       "      <td>0.005662</td>\n",
       "      <td>0.001</td>\n",
       "      <td>{'alpha': 0.001}</td>\n",
       "      <td>0.690249</td>\n",
       "      <td>0.698859</td>\n",
       "      <td>0.690275</td>\n",
       "      <td>0.700330</td>\n",
       "      <td>...</td>\n",
       "      <td>0.694932</td>\n",
       "      <td>0.004200</td>\n",
       "      <td>1</td>\n",
       "      <td>0.752948</td>\n",
       "      <td>0.749176</td>\n",
       "      <td>0.752172</td>\n",
       "      <td>0.751007</td>\n",
       "      <td>0.752370</td>\n",
       "      <td>0.751535</td>\n",
       "      <td>0.001337</td>\n",
       "    </tr>\n",
       "    <tr>\n",
       "      <th>1</th>\n",
       "      <td>0.507643</td>\n",
       "      <td>0.026106</td>\n",
       "      <td>0.053656</td>\n",
       "      <td>0.007633</td>\n",
       "      <td>0.01</td>\n",
       "      <td>{'alpha': 0.01}</td>\n",
       "      <td>0.690231</td>\n",
       "      <td>0.698839</td>\n",
       "      <td>0.690239</td>\n",
       "      <td>0.700309</td>\n",
       "      <td>...</td>\n",
       "      <td>0.694906</td>\n",
       "      <td>0.004202</td>\n",
       "      <td>2</td>\n",
       "      <td>0.752924</td>\n",
       "      <td>0.749153</td>\n",
       "      <td>0.752149</td>\n",
       "      <td>0.750929</td>\n",
       "      <td>0.752305</td>\n",
       "      <td>0.751492</td>\n",
       "      <td>0.001336</td>\n",
       "    </tr>\n",
       "    <tr>\n",
       "      <th>2</th>\n",
       "      <td>0.548135</td>\n",
       "      <td>0.077113</td>\n",
       "      <td>0.069215</td>\n",
       "      <td>0.012258</td>\n",
       "      <td>0.1</td>\n",
       "      <td>{'alpha': 0.1}</td>\n",
       "      <td>0.690146</td>\n",
       "      <td>0.698754</td>\n",
       "      <td>0.690121</td>\n",
       "      <td>0.700230</td>\n",
       "      <td>...</td>\n",
       "      <td>0.694810</td>\n",
       "      <td>0.004211</td>\n",
       "      <td>3</td>\n",
       "      <td>0.752760</td>\n",
       "      <td>0.748997</td>\n",
       "      <td>0.751990</td>\n",
       "      <td>0.750697</td>\n",
       "      <td>0.752082</td>\n",
       "      <td>0.751305</td>\n",
       "      <td>0.001333</td>\n",
       "    </tr>\n",
       "    <tr>\n",
       "      <th>3</th>\n",
       "      <td>0.552522</td>\n",
       "      <td>0.106812</td>\n",
       "      <td>0.068018</td>\n",
       "      <td>0.022729</td>\n",
       "      <td>1</td>\n",
       "      <td>{'alpha': 1}</td>\n",
       "      <td>0.689503</td>\n",
       "      <td>0.697969</td>\n",
       "      <td>0.689298</td>\n",
       "      <td>0.699721</td>\n",
       "      <td>...</td>\n",
       "      <td>0.694131</td>\n",
       "      <td>0.004260</td>\n",
       "      <td>4</td>\n",
       "      <td>0.751286</td>\n",
       "      <td>0.747579</td>\n",
       "      <td>0.750544</td>\n",
       "      <td>0.749189</td>\n",
       "      <td>0.750495</td>\n",
       "      <td>0.749819</td>\n",
       "      <td>0.001307</td>\n",
       "    </tr>\n",
       "    <tr>\n",
       "      <th>4</th>\n",
       "      <td>0.586634</td>\n",
       "      <td>0.125220</td>\n",
       "      <td>0.075996</td>\n",
       "      <td>0.023395</td>\n",
       "      <td>10</td>\n",
       "      <td>{'alpha': 10}</td>\n",
       "      <td>0.683417</td>\n",
       "      <td>0.690476</td>\n",
       "      <td>0.681758</td>\n",
       "      <td>0.694729</td>\n",
       "      <td>...</td>\n",
       "      <td>0.687963</td>\n",
       "      <td>0.004763</td>\n",
       "      <td>5</td>\n",
       "      <td>0.738848</td>\n",
       "      <td>0.735603</td>\n",
       "      <td>0.738448</td>\n",
       "      <td>0.736946</td>\n",
       "      <td>0.737559</td>\n",
       "      <td>0.737481</td>\n",
       "      <td>0.001151</td>\n",
       "    </tr>\n",
       "    <tr>\n",
       "      <th>5</th>\n",
       "      <td>0.494079</td>\n",
       "      <td>0.091367</td>\n",
       "      <td>0.059047</td>\n",
       "      <td>0.004569</td>\n",
       "      <td>100</td>\n",
       "      <td>{'alpha': 100}</td>\n",
       "      <td>0.604248</td>\n",
       "      <td>0.602115</td>\n",
       "      <td>0.597273</td>\n",
       "      <td>0.609794</td>\n",
       "      <td>...</td>\n",
       "      <td>0.606117</td>\n",
       "      <td>0.006829</td>\n",
       "      <td>6</td>\n",
       "      <td>0.625591</td>\n",
       "      <td>0.625111</td>\n",
       "      <td>0.626288</td>\n",
       "      <td>0.622704</td>\n",
       "      <td>0.621319</td>\n",
       "      <td>0.624202</td>\n",
       "      <td>0.001879</td>\n",
       "    </tr>\n",
       "    <tr>\n",
       "      <th>6</th>\n",
       "      <td>0.473934</td>\n",
       "      <td>0.075842</td>\n",
       "      <td>0.054054</td>\n",
       "      <td>0.009678</td>\n",
       "      <td>1000</td>\n",
       "      <td>{'alpha': 1000}</td>\n",
       "      <td>0.500000</td>\n",
       "      <td>0.500000</td>\n",
       "      <td>0.500000</td>\n",
       "      <td>0.500000</td>\n",
       "      <td>...</td>\n",
       "      <td>0.500000</td>\n",
       "      <td>0.000000</td>\n",
       "      <td>8</td>\n",
       "      <td>0.500000</td>\n",
       "      <td>0.500000</td>\n",
       "      <td>0.500000</td>\n",
       "      <td>0.500000</td>\n",
       "      <td>0.500000</td>\n",
       "      <td>0.500000</td>\n",
       "      <td>0.000000</td>\n",
       "    </tr>\n",
       "    <tr>\n",
       "      <th>7</th>\n",
       "      <td>0.452191</td>\n",
       "      <td>0.035719</td>\n",
       "      <td>0.038698</td>\n",
       "      <td>0.004692</td>\n",
       "      <td>10000</td>\n",
       "      <td>{'alpha': 10000}</td>\n",
       "      <td>0.500226</td>\n",
       "      <td>0.500000</td>\n",
       "      <td>0.500185</td>\n",
       "      <td>0.499879</td>\n",
       "      <td>...</td>\n",
       "      <td>0.500050</td>\n",
       "      <td>0.000133</td>\n",
       "      <td>7</td>\n",
       "      <td>0.500016</td>\n",
       "      <td>0.500073</td>\n",
       "      <td>0.500016</td>\n",
       "      <td>0.500103</td>\n",
       "      <td>0.500073</td>\n",
       "      <td>0.500056</td>\n",
       "      <td>0.000034</td>\n",
       "    </tr>\n",
       "  </tbody>\n",
       "</table>\n",
       "<p>8 rows × 21 columns</p>\n",
       "</div>"
      ],
      "text/plain": [
       "   mean_fit_time  std_fit_time  mean_score_time  std_score_time param_alpha  \\\n",
       "0       0.532776      0.033152         0.055451        0.005662       0.001   \n",
       "1       0.507643      0.026106         0.053656        0.007633        0.01   \n",
       "2       0.548135      0.077113         0.069215        0.012258         0.1   \n",
       "3       0.552522      0.106812         0.068018        0.022729           1   \n",
       "4       0.586634      0.125220         0.075996        0.023395          10   \n",
       "5       0.494079      0.091367         0.059047        0.004569         100   \n",
       "6       0.473934      0.075842         0.054054        0.009678        1000   \n",
       "7       0.452191      0.035719         0.038698        0.004692       10000   \n",
       "\n",
       "             params  split0_test_score  split1_test_score  split2_test_score  \\\n",
       "0  {'alpha': 0.001}           0.690249           0.698859           0.690275   \n",
       "1   {'alpha': 0.01}           0.690231           0.698839           0.690239   \n",
       "2    {'alpha': 0.1}           0.690146           0.698754           0.690121   \n",
       "3      {'alpha': 1}           0.689503           0.697969           0.689298   \n",
       "4     {'alpha': 10}           0.683417           0.690476           0.681758   \n",
       "5    {'alpha': 100}           0.604248           0.602115           0.597273   \n",
       "6   {'alpha': 1000}           0.500000           0.500000           0.500000   \n",
       "7  {'alpha': 10000}           0.500226           0.500000           0.500185   \n",
       "\n",
       "   split3_test_score  ...  mean_test_score  std_test_score  rank_test_score  \\\n",
       "0           0.700330  ...         0.694932        0.004200                1   \n",
       "1           0.700309  ...         0.694906        0.004202                2   \n",
       "2           0.700230  ...         0.694810        0.004211                3   \n",
       "3           0.699721  ...         0.694131        0.004260                4   \n",
       "4           0.694729  ...         0.687963        0.004763                5   \n",
       "5           0.609794  ...         0.606117        0.006829                6   \n",
       "6           0.500000  ...         0.500000        0.000000                8   \n",
       "7           0.499879  ...         0.500050        0.000133                7   \n",
       "\n",
       "   split0_train_score  split1_train_score  split2_train_score  \\\n",
       "0            0.752948            0.749176            0.752172   \n",
       "1            0.752924            0.749153            0.752149   \n",
       "2            0.752760            0.748997            0.751990   \n",
       "3            0.751286            0.747579            0.750544   \n",
       "4            0.738848            0.735603            0.738448   \n",
       "5            0.625591            0.625111            0.626288   \n",
       "6            0.500000            0.500000            0.500000   \n",
       "7            0.500016            0.500073            0.500016   \n",
       "\n",
       "   split3_train_score  split4_train_score  mean_train_score  std_train_score  \n",
       "0            0.751007            0.752370          0.751535         0.001337  \n",
       "1            0.750929            0.752305          0.751492         0.001336  \n",
       "2            0.750697            0.752082          0.751305         0.001333  \n",
       "3            0.749189            0.750495          0.749819         0.001307  \n",
       "4            0.736946            0.737559          0.737481         0.001151  \n",
       "5            0.622704            0.621319          0.624202         0.001879  \n",
       "6            0.500000            0.500000          0.500000         0.000000  \n",
       "7            0.500103            0.500073          0.500056         0.000034  \n",
       "\n",
       "[8 rows x 21 columns]"
      ]
     },
     "execution_count": 68,
     "metadata": {},
     "output_type": "execute_result"
    }
   ],
   "source": [
    "results = pd.DataFrame(clf.cv_results_)\n",
    "results"
   ]
  },
  {
   "cell_type": "code",
   "execution_count": 69,
   "metadata": {
    "ExecuteTime": {
     "end_time": "2022-08-05T15:06:29.916491Z",
     "start_time": "2022-08-05T15:06:29.903530Z"
    }
   },
   "outputs": [
    {
     "data": {
      "text/plain": [
       "Index(['mean_fit_time', 'std_fit_time', 'mean_score_time', 'std_score_time',\n",
       "       'param_alpha', 'params', 'split0_test_score', 'split1_test_score',\n",
       "       'split2_test_score', 'split3_test_score', 'split4_test_score',\n",
       "       'mean_test_score', 'std_test_score', 'rank_test_score',\n",
       "       'split0_train_score', 'split1_train_score', 'split2_train_score',\n",
       "       'split3_train_score', 'split4_train_score', 'mean_train_score',\n",
       "       'std_train_score'],\n",
       "      dtype='object')"
      ]
     },
     "execution_count": 69,
     "metadata": {},
     "output_type": "execute_result"
    }
   ],
   "source": [
    "results.columns"
   ]
  },
  {
   "cell_type": "code",
   "execution_count": 70,
   "metadata": {
    "ExecuteTime": {
     "end_time": "2022-08-05T15:06:29.931460Z",
     "start_time": "2022-08-05T15:06:29.918480Z"
    }
   },
   "outputs": [
    {
     "data": {
      "text/html": [
       "<div>\n",
       "<style scoped>\n",
       "    .dataframe tbody tr th:only-of-type {\n",
       "        vertical-align: middle;\n",
       "    }\n",
       "\n",
       "    .dataframe tbody tr th {\n",
       "        vertical-align: top;\n",
       "    }\n",
       "\n",
       "    .dataframe thead th {\n",
       "        text-align: right;\n",
       "    }\n",
       "</style>\n",
       "<table border=\"1\" class=\"dataframe\">\n",
       "  <thead>\n",
       "    <tr style=\"text-align: right;\">\n",
       "      <th></th>\n",
       "      <th>param_alpha</th>\n",
       "      <th>mean_train_score</th>\n",
       "      <th>mean_test_score</th>\n",
       "      <th>rank_test_score</th>\n",
       "    </tr>\n",
       "  </thead>\n",
       "  <tbody>\n",
       "    <tr>\n",
       "      <th>0</th>\n",
       "      <td>0.001</td>\n",
       "      <td>0.751535</td>\n",
       "      <td>0.694932</td>\n",
       "      <td>1</td>\n",
       "    </tr>\n",
       "    <tr>\n",
       "      <th>1</th>\n",
       "      <td>0.01</td>\n",
       "      <td>0.751492</td>\n",
       "      <td>0.694906</td>\n",
       "      <td>2</td>\n",
       "    </tr>\n",
       "    <tr>\n",
       "      <th>2</th>\n",
       "      <td>0.1</td>\n",
       "      <td>0.751305</td>\n",
       "      <td>0.694810</td>\n",
       "      <td>3</td>\n",
       "    </tr>\n",
       "    <tr>\n",
       "      <th>3</th>\n",
       "      <td>1</td>\n",
       "      <td>0.749819</td>\n",
       "      <td>0.694131</td>\n",
       "      <td>4</td>\n",
       "    </tr>\n",
       "    <tr>\n",
       "      <th>4</th>\n",
       "      <td>10</td>\n",
       "      <td>0.737481</td>\n",
       "      <td>0.687963</td>\n",
       "      <td>5</td>\n",
       "    </tr>\n",
       "    <tr>\n",
       "      <th>5</th>\n",
       "      <td>100</td>\n",
       "      <td>0.624202</td>\n",
       "      <td>0.606117</td>\n",
       "      <td>6</td>\n",
       "    </tr>\n",
       "    <tr>\n",
       "      <th>6</th>\n",
       "      <td>1000</td>\n",
       "      <td>0.500000</td>\n",
       "      <td>0.500000</td>\n",
       "      <td>8</td>\n",
       "    </tr>\n",
       "    <tr>\n",
       "      <th>7</th>\n",
       "      <td>10000</td>\n",
       "      <td>0.500056</td>\n",
       "      <td>0.500050</td>\n",
       "      <td>7</td>\n",
       "    </tr>\n",
       "  </tbody>\n",
       "</table>\n",
       "</div>"
      ],
      "text/plain": [
       "  param_alpha  mean_train_score  mean_test_score  rank_test_score\n",
       "0       0.001          0.751535         0.694932                1\n",
       "1        0.01          0.751492         0.694906                2\n",
       "2         0.1          0.751305         0.694810                3\n",
       "3           1          0.749819         0.694131                4\n",
       "4          10          0.737481         0.687963                5\n",
       "5         100          0.624202         0.606117                6\n",
       "6        1000          0.500000         0.500000                8\n",
       "7       10000          0.500056         0.500050                7"
      ]
     },
     "execution_count": 70,
     "metadata": {},
     "output_type": "execute_result"
    }
   ],
   "source": [
    "results = results[['param_alpha','mean_train_score', 'mean_test_score', 'rank_test_score']]\n",
    "results"
   ]
  },
  {
   "cell_type": "code",
   "execution_count": 71,
   "metadata": {
    "ExecuteTime": {
     "end_time": "2022-08-05T15:06:30.134399Z",
     "start_time": "2022-08-05T15:06:29.933441Z"
    }
   },
   "outputs": [
    {
     "data": {
      "image/png": "[encoded data removed]",
      "text/plain": [
       "<Figure size 576x432 with 1 Axes>"
      ]
     },
     "metadata": {
      "needs_background": "light"
     },
     "output_type": "display_data"
    }
   ],
   "source": [
    "log_param=[]\n",
    "import math as m \n",
    "for i in alpha_val['alpha']:  # converting alpha into log- alpha\n",
    "    log_param.append(m.log(i))\n",
    "    \n",
    "train_auc = results['mean_train_score'].values\n",
    "cv_auc = results['mean_test_score'].values\n",
    "\n",
    "plt.figure(figsize=(8,6))\n",
    "plt.grid()\n",
    "plt.plot(log_param, train_auc, label='Train AUC')\n",
    "plt.plot(log_param, cv_auc, label='CV AUC')  \n",
    "plt.scatter(log_param,train_auc)\n",
    "plt.scatter(log_param,cv_auc)\n",
    "plt.legend()\n",
    "plt.xlabel(\"log alpha: hyperparameter\")\n",
    "plt.ylabel(\"AUC\")\n",
    "plt.title(\"alpha: hyperparameter v/s AUC\")\n",
    "plt.grid(color='black', linestyle='-', linewidth=0.5)"
   ]
  },
  {
   "cell_type": "code",
   "execution_count": null,
   "metadata": {},
   "outputs": [],
   "source": []
  },
  {
   "cell_type": "code",
   "execution_count": null,
   "metadata": {},
   "outputs": [],
   "source": []
  },
  {
   "cell_type": "markdown",
   "metadata": {},
   "source": [
    "**Best value of hyperparameter is 0.001**"
   ]
  },
  {
   "cell_type": "code",
   "execution_count": 72,
   "metadata": {
    "ExecuteTime": {
     "end_time": "2022-08-05T15:06:30.150416Z",
     "start_time": "2022-08-05T15:06:30.136396Z"
    }
   },
   "outputs": [],
   "source": [
    "model = MultinomialNB(alpha=0.001, class_prior=[0.5,0.5])"
   ]
  },
  {
   "cell_type": "code",
   "execution_count": 73,
   "metadata": {
    "ExecuteTime": {
     "end_time": "2022-08-05T15:06:30.229148Z",
     "start_time": "2022-08-05T15:06:30.151370Z"
    }
   },
   "outputs": [
    {
     "data": {
      "text/plain": [
       "MultinomialNB(alpha=0.001, class_prior=[0.5, 0.5])"
      ]
     },
     "execution_count": 73,
     "metadata": {},
     "output_type": "execute_result"
    }
   ],
   "source": [
    "model.fit(bow_set_feature_train, y_train)\n"
   ]
  },
  {
   "cell_type": "code",
   "execution_count": 74,
   "metadata": {
    "ExecuteTime": {
     "end_time": "2022-08-05T15:06:30.275025Z",
     "start_time": "2022-08-05T15:06:30.231143Z"
    }
   },
   "outputs": [
    {
     "data": {
      "text/plain": [
       "array([0.01342202, 0.8144054 , 0.98510311, ..., 0.99999999, 0.19439374,\n",
       "       0.46250087])"
      ]
     },
     "execution_count": 74,
     "metadata": {},
     "output_type": "execute_result"
    }
   ],
   "source": [
    "y_proba_test = model.predict_proba(bow_set_feature_test)[:,1]\n",
    "y_proba_test"
   ]
  },
  {
   "cell_type": "code",
   "execution_count": 75,
   "metadata": {
    "ExecuteTime": {
     "end_time": "2022-08-05T15:06:30.354850Z",
     "start_time": "2022-08-05T15:06:30.276023Z"
    }
   },
   "outputs": [
    {
     "data": {
      "text/plain": [
       "array([0.23031447, 0.96623703, 0.07250102, ..., 0.00402872, 0.86036437,\n",
       "       1.        ])"
      ]
     },
     "execution_count": 75,
     "metadata": {},
     "output_type": "execute_result"
    }
   ],
   "source": [
    "y_proba_train = model.predict_proba(bow_set_feature_train)[:,1]\n",
    "y_proba_train"
   ]
  },
  {
   "cell_type": "code",
   "execution_count": null,
   "metadata": {},
   "outputs": [],
   "source": []
  },
  {
   "cell_type": "code",
   "execution_count": null,
   "metadata": {},
   "outputs": [],
   "source": []
  },
  {
   "cell_type": "code",
   "execution_count": null,
   "metadata": {},
   "outputs": [],
   "source": []
  },
  {
   "cell_type": "code",
   "execution_count": 76,
   "metadata": {
    "ExecuteTime": {
     "end_time": "2022-08-05T15:06:30.385921Z",
     "start_time": "2022-08-05T15:06:30.356806Z"
    }
   },
   "outputs": [
    {
     "data": {
      "text/plain": [
       "0.6944905939886288"
      ]
     },
     "execution_count": 76,
     "metadata": {},
     "output_type": "execute_result"
    }
   ],
   "source": [
    "auc_score = roc_auc_score(y_true=y_test, y_score=y_proba_test)\n",
    "auc_score"
   ]
  },
  {
   "cell_type": "code",
   "execution_count": 77,
   "metadata": {
    "ExecuteTime": {
     "end_time": "2022-08-05T15:06:30.400726Z",
     "start_time": "2022-08-05T15:06:30.387769Z"
    }
   },
   "outputs": [],
   "source": [
    "from sklearn.metrics import roc_curve\n",
    "from sklearn.metrics import auc"
   ]
  },
  {
   "cell_type": "code",
   "execution_count": 78,
   "metadata": {
    "ExecuteTime": {
     "end_time": "2022-08-05T15:06:30.431965Z",
     "start_time": "2022-08-05T15:06:30.401723Z"
    }
   },
   "outputs": [],
   "source": [
    "train_fpr, train_tpr, tr_threshold = roc_curve(y_train, y_proba_train)\n",
    "test_fpr, test_tpr, te_threshold = roc_curve(y_test, y_proba_test)"
   ]
  },
  {
   "cell_type": "code",
   "execution_count": 79,
   "metadata": {
    "ExecuteTime": {
     "end_time": "2022-08-05T15:06:30.602220Z",
     "start_time": "2022-08-05T15:06:30.432670Z"
    }
   },
   "outputs": [
    {
     "data": {
      "image/png": "[encoded data removed]",
      "text/plain": [
       "<Figure size 576x432 with 1 Axes>"
      ]
     },
     "metadata": {
      "needs_background": "light"
     },
     "output_type": "display_data"
    }
   ],
   "source": [
    "plt.figure(figsize=(8,6))\n",
    "plt.plot(train_fpr, train_tpr, label=\"Train AUC =\"+str(auc(train_fpr, train_tpr)))\n",
    "plt.plot(test_fpr, test_tpr, label=\"Test AUC =\"+str(auc(test_fpr, test_tpr)))\n",
    "plt.legend()\n",
    "plt.xlabel(\"False Positive Rate(FPR)\")\n",
    "plt.ylabel(\"True Positive Rate(TPR)\")\n",
    "plt.title(\"AUC\")\n",
    "plt.grid(color='black',lw=0.5)"
   ]
  },
  {
   "cell_type": "markdown",
   "metadata": {},
   "source": [
    "# finding best threshold"
   ]
  },
  {
   "cell_type": "code",
   "execution_count": 80,
   "metadata": {
    "ExecuteTime": {
     "end_time": "2022-08-05T15:06:30.618176Z",
     "start_time": "2022-08-05T15:06:30.605211Z"
    }
   },
   "outputs": [],
   "source": [
    "def find_best_threshold(threshould, fpr, tpr):\n",
    "    t = threshould[np.argmax(tpr*(1-fpr))]\n",
    "    \n",
    "    return t"
   ]
  },
  {
   "cell_type": "code",
   "execution_count": 81,
   "metadata": {
    "ExecuteTime": {
     "end_time": "2022-08-05T15:06:30.634135Z",
     "start_time": "2022-08-05T15:06:30.620172Z"
    }
   },
   "outputs": [
    {
     "data": {
      "text/plain": [
       "0.42624679305791063"
      ]
     },
     "execution_count": 81,
     "metadata": {},
     "output_type": "execute_result"
    }
   ],
   "source": [
    "best_t = find_best_threshold(tr_threshold, train_fpr, train_tpr)\n",
    "best_t"
   ]
  },
  {
   "cell_type": "code",
   "execution_count": 82,
   "metadata": {
    "ExecuteTime": {
     "end_time": "2022-08-05T15:06:30.649665Z",
     "start_time": "2022-08-05T15:06:30.636130Z"
    }
   },
   "outputs": [],
   "source": [
    "def predict_with_best_t(proba, threshould):\n",
    "    predictions = []\n",
    "    for i in proba:\n",
    "        if i>=threshould:\n",
    "            predictions.append(1)\n",
    "        else:\n",
    "            predictions.append(0)\n",
    "    return predictions"
   ]
  },
  {
   "cell_type": "code",
   "execution_count": null,
   "metadata": {},
   "outputs": [],
   "source": []
  },
  {
   "cell_type": "code",
   "execution_count": 83,
   "metadata": {
    "ExecuteTime": {
     "end_time": "2022-08-05T15:06:30.665625Z",
     "start_time": "2022-08-05T15:06:30.651681Z"
    }
   },
   "outputs": [],
   "source": [
    "y_train_pred = predict_with_best_t(y_proba_train, best_t)"
   ]
  },
  {
   "cell_type": "code",
   "execution_count": 84,
   "metadata": {
    "ExecuteTime": {
     "end_time": "2022-08-05T15:06:30.681592Z",
     "start_time": "2022-08-05T15:06:30.667619Z"
    }
   },
   "outputs": [],
   "source": [
    "from sklearn.metrics import confusion_matrix\n",
    "import seaborn as sns"
   ]
  },
  {
   "cell_type": "code",
   "execution_count": null,
   "metadata": {},
   "outputs": [],
   "source": []
  },
  {
   "cell_type": "code",
   "execution_count": 85,
   "metadata": {
    "ExecuteTime": {
     "end_time": "2022-08-05T15:06:30.727229Z",
     "start_time": "2022-08-05T15:06:30.683586Z"
    }
   },
   "outputs": [
    {
     "data": {
      "text/plain": [
       "array([[ 7476,  3607],\n",
       "       [19242, 42871]], dtype=int64)"
      ]
     },
     "execution_count": 85,
     "metadata": {},
     "output_type": "execute_result"
    }
   ],
   "source": [
    "cm = confusion_matrix(y_pred=y_train_pred, y_true = y_train)\n",
    "\n",
    "# cm = cm/cm.astype(np.float).sum(axis=0)\n",
    "cm            \n",
    "                      "
   ]
  },
  {
   "cell_type": "code",
   "execution_count": 86,
   "metadata": {
    "ExecuteTime": {
     "end_time": "2022-08-05T15:06:30.868875Z",
     "start_time": "2022-08-05T15:06:30.729248Z"
    }
   },
   "outputs": [
    {
     "data": {
      "text/plain": [
       "<AxesSubplot:title={'center':'Confusion matrix of train data'}>"
      ]
     },
     "execution_count": 86,
     "metadata": {},
     "output_type": "execute_result"
    },
    {
     "data": {
      "image/png": "[encoded data removed]",
      "text/plain": [
       "<Figure size 432x288 with 2 Axes>"
      ]
     },
     "metadata": {
      "needs_background": "light"
     },
     "output_type": "display_data"
    }
   ],
   "source": [
    "plt.title('Confusion matrix of train data')\n",
    "sns.heatmap(cm, annot=True, fmt='d')"
   ]
  },
  {
   "cell_type": "code",
   "execution_count": null,
   "metadata": {},
   "outputs": [],
   "source": []
  },
  {
   "cell_type": "code",
   "execution_count": 87,
   "metadata": {
    "ExecuteTime": {
     "end_time": "2022-08-05T15:06:30.884832Z",
     "start_time": "2022-08-05T15:06:30.870870Z"
    }
   },
   "outputs": [],
   "source": [
    "y_test_pred = predict_with_best_t(y_proba_test, best_t)"
   ]
  },
  {
   "cell_type": "code",
   "execution_count": 88,
   "metadata": {
    "ExecuteTime": {
     "end_time": "2022-08-05T15:06:30.916825Z",
     "start_time": "2022-08-05T15:06:30.888836Z"
    }
   },
   "outputs": [
    {
     "data": {
      "text/plain": [
       "array([[ 3369,  2090],\n",
       "       [ 9785, 20808]], dtype=int64)"
      ]
     },
     "execution_count": 88,
     "metadata": {},
     "output_type": "execute_result"
    }
   ],
   "source": [
    "cm_test = confusion_matrix(y_pred=y_test_pred, y_true = y_test)\n",
    "cm_test"
   ]
  },
  {
   "cell_type": "code",
   "execution_count": 89,
   "metadata": {
    "ExecuteTime": {
     "end_time": "2022-08-05T15:06:31.057444Z",
     "start_time": "2022-08-05T15:06:30.919742Z"
    }
   },
   "outputs": [
    {
     "data": {
      "text/plain": [
       "<AxesSubplot:title={'center':'Confusion matrix of test data'}>"
      ]
     },
     "execution_count": 89,
     "metadata": {},
     "output_type": "execute_result"
    },
    {
     "data": {
      "image/png": "[encoded data removed]",
      "text/plain": [
       "<Figure size 432x288 with 2 Axes>"
      ]
     },
     "metadata": {
      "needs_background": "light"
     },
     "output_type": "display_data"
    }
   ],
   "source": [
    "plt.title('Confusion matrix of test data')\n",
    "sns.heatmap(cm_test, annot=True, fmt='d')"
   ]
  },
  {
   "cell_type": "code",
   "execution_count": 90,
   "metadata": {
    "ExecuteTime": {
     "end_time": "2022-08-05T15:07:29.450434Z",
     "start_time": "2022-08-05T15:07:29.433478Z"
    }
   },
   "outputs": [
    {
     "data": {
      "text/plain": [
       "15099"
      ]
     },
     "execution_count": 90,
     "metadata": {},
     "output_type": "execute_result"
    }
   ],
   "source": []
  },
  {
   "cell_type": "code",
   "execution_count": null,
   "metadata": {},
   "outputs": [],
   "source": []
  },
  {
   "cell_type": "markdown",
   "metadata": {
    "ExecuteTime": {
     "end_time": "2022-08-04T14:47:41.594669Z",
     "start_time": "2022-08-04T14:47:41.580687Z"
    }
   },
   "source": [
    "# model Building (tf-idf)--- Hyperparameter tunning using GridSearchCV"
   ]
  },
  {
   "cell_type": "code",
   "execution_count": 97,
   "metadata": {
    "ExecuteTime": {
     "end_time": "2022-08-05T15:09:56.106864Z",
     "start_time": "2022-08-05T15:09:56.092649Z"
    }
   },
   "outputs": [],
   "source": [
    "tf_model = MultinomialNB(class_prior=[0.5,0.5])"
   ]
  },
  {
   "cell_type": "code",
   "execution_count": 98,
   "metadata": {
    "ExecuteTime": {
     "end_time": "2022-08-05T15:09:56.449345Z",
     "start_time": "2022-08-05T15:09:56.435382Z"
    }
   },
   "outputs": [
    {
     "data": {
      "text/plain": [
       "{'alpha': [0.001, 0.01, 0.1, 1, 10, 100, 1000, 10000]}"
      ]
     },
     "execution_count": 98,
     "metadata": {},
     "output_type": "execute_result"
    }
   ],
   "source": [
    "alpha_val = {'alpha': [10**i for i in range(-3, 5)]}\n",
    "alpha_val"
   ]
  },
  {
   "cell_type": "code",
   "execution_count": 99,
   "metadata": {
    "ExecuteTime": {
     "end_time": "2022-08-05T15:09:56.744405Z",
     "start_time": "2022-08-05T15:09:56.733836Z"
    }
   },
   "outputs": [],
   "source": [
    "clf = GridSearchCV(estimator=tf_model, param_grid=alpha_val, scoring='roc_auc', return_train_score=True, verbose=True, cv=5, n_jobs=-1)"
   ]
  },
  {
   "cell_type": "code",
   "execution_count": 100,
   "metadata": {
    "ExecuteTime": {
     "end_time": "2022-08-05T15:10:00.479584Z",
     "start_time": "2022-08-05T15:09:57.048159Z"
    }
   },
   "outputs": [
    {
     "name": "stdout",
     "output_type": "stream",
     "text": [
      "Fitting 5 folds for each of 8 candidates, totalling 40 fits\n"
     ]
    },
    {
     "data": {
      "text/plain": [
       "GridSearchCV(cv=5, estimator=MultinomialNB(class_prior=[0.5, 0.5]), n_jobs=-1,\n",
       "             param_grid={'alpha': [0.001, 0.01, 0.1, 1, 10, 100, 1000, 10000]},\n",
       "             return_train_score=True, scoring='roc_auc', verbose=True)"
      ]
     },
     "execution_count": 100,
     "metadata": {},
     "output_type": "execute_result"
    }
   ],
   "source": [
    "clf.fit(tf_idf_Set_feature_train, y_train)"
   ]
  },
  {
   "cell_type": "code",
   "execution_count": 101,
   "metadata": {
    "ExecuteTime": {
     "end_time": "2022-08-05T15:10:00.510530Z",
     "start_time": "2022-08-05T15:10:00.481579Z"
    }
   },
   "outputs": [
    {
     "data": {
      "text/html": [
       "<div>\n",
       "<style scoped>\n",
       "    .dataframe tbody tr th:only-of-type {\n",
       "        vertical-align: middle;\n",
       "    }\n",
       "\n",
       "    .dataframe tbody tr th {\n",
       "        vertical-align: top;\n",
       "    }\n",
       "\n",
       "    .dataframe thead th {\n",
       "        text-align: right;\n",
       "    }\n",
       "</style>\n",
       "<table border=\"1\" class=\"dataframe\">\n",
       "  <thead>\n",
       "    <tr style=\"text-align: right;\">\n",
       "      <th></th>\n",
       "      <th>mean_fit_time</th>\n",
       "      <th>std_fit_time</th>\n",
       "      <th>mean_score_time</th>\n",
       "      <th>std_score_time</th>\n",
       "      <th>param_alpha</th>\n",
       "      <th>params</th>\n",
       "      <th>split0_test_score</th>\n",
       "      <th>split1_test_score</th>\n",
       "      <th>split2_test_score</th>\n",
       "      <th>split3_test_score</th>\n",
       "      <th>...</th>\n",
       "      <th>mean_test_score</th>\n",
       "      <th>std_test_score</th>\n",
       "      <th>rank_test_score</th>\n",
       "      <th>split0_train_score</th>\n",
       "      <th>split1_train_score</th>\n",
       "      <th>split2_train_score</th>\n",
       "      <th>split3_train_score</th>\n",
       "      <th>split4_train_score</th>\n",
       "      <th>mean_train_score</th>\n",
       "      <th>std_train_score</th>\n",
       "    </tr>\n",
       "  </thead>\n",
       "  <tbody>\n",
       "    <tr>\n",
       "      <th>0</th>\n",
       "      <td>0.476126</td>\n",
       "      <td>0.007741</td>\n",
       "      <td>0.049667</td>\n",
       "      <td>0.004107</td>\n",
       "      <td>0.001</td>\n",
       "      <td>{'alpha': 0.001}</td>\n",
       "      <td>0.674129</td>\n",
       "      <td>0.677083</td>\n",
       "      <td>0.677598</td>\n",
       "      <td>0.685670</td>\n",
       "      <td>...</td>\n",
       "      <td>0.678970</td>\n",
       "      <td>0.003892</td>\n",
       "      <td>1</td>\n",
       "      <td>0.739547</td>\n",
       "      <td>0.734325</td>\n",
       "      <td>0.739539</td>\n",
       "      <td>0.738506</td>\n",
       "      <td>0.740420</td>\n",
       "      <td>0.738467</td>\n",
       "      <td>0.002158</td>\n",
       "    </tr>\n",
       "    <tr>\n",
       "      <th>1</th>\n",
       "      <td>0.517616</td>\n",
       "      <td>0.058620</td>\n",
       "      <td>0.048470</td>\n",
       "      <td>0.004745</td>\n",
       "      <td>0.01</td>\n",
       "      <td>{'alpha': 0.01}</td>\n",
       "      <td>0.674010</td>\n",
       "      <td>0.676934</td>\n",
       "      <td>0.677461</td>\n",
       "      <td>0.685566</td>\n",
       "      <td>...</td>\n",
       "      <td>0.678836</td>\n",
       "      <td>0.003898</td>\n",
       "      <td>2</td>\n",
       "      <td>0.739335</td>\n",
       "      <td>0.734123</td>\n",
       "      <td>0.739331</td>\n",
       "      <td>0.738233</td>\n",
       "      <td>0.740137</td>\n",
       "      <td>0.738232</td>\n",
       "      <td>0.002142</td>\n",
       "    </tr>\n",
       "    <tr>\n",
       "      <th>2</th>\n",
       "      <td>0.599131</td>\n",
       "      <td>0.063456</td>\n",
       "      <td>0.051062</td>\n",
       "      <td>0.006507</td>\n",
       "      <td>0.1</td>\n",
       "      <td>{'alpha': 0.1}</td>\n",
       "      <td>0.672912</td>\n",
       "      <td>0.675621</td>\n",
       "      <td>0.676372</td>\n",
       "      <td>0.684715</td>\n",
       "      <td>...</td>\n",
       "      <td>0.677748</td>\n",
       "      <td>0.004006</td>\n",
       "      <td>3</td>\n",
       "      <td>0.737362</td>\n",
       "      <td>0.732225</td>\n",
       "      <td>0.737390</td>\n",
       "      <td>0.736242</td>\n",
       "      <td>0.738097</td>\n",
       "      <td>0.736263</td>\n",
       "      <td>0.002104</td>\n",
       "    </tr>\n",
       "    <tr>\n",
       "      <th>3</th>\n",
       "      <td>0.604336</td>\n",
       "      <td>0.054467</td>\n",
       "      <td>0.046479</td>\n",
       "      <td>0.003380</td>\n",
       "      <td>1</td>\n",
       "      <td>{'alpha': 1}</td>\n",
       "      <td>0.662206</td>\n",
       "      <td>0.662778</td>\n",
       "      <td>0.665826</td>\n",
       "      <td>0.675547</td>\n",
       "      <td>...</td>\n",
       "      <td>0.667088</td>\n",
       "      <td>0.004890</td>\n",
       "      <td>4</td>\n",
       "      <td>0.719733</td>\n",
       "      <td>0.715157</td>\n",
       "      <td>0.719861</td>\n",
       "      <td>0.718766</td>\n",
       "      <td>0.720330</td>\n",
       "      <td>0.718769</td>\n",
       "      <td>0.001877</td>\n",
       "    </tr>\n",
       "    <tr>\n",
       "      <th>4</th>\n",
       "      <td>0.491005</td>\n",
       "      <td>0.039108</td>\n",
       "      <td>0.051862</td>\n",
       "      <td>0.008051</td>\n",
       "      <td>10</td>\n",
       "      <td>{'alpha': 10}</td>\n",
       "      <td>0.595791</td>\n",
       "      <td>0.588615</td>\n",
       "      <td>0.600160</td>\n",
       "      <td>0.608907</td>\n",
       "      <td>...</td>\n",
       "      <td>0.599226</td>\n",
       "      <td>0.006794</td>\n",
       "      <td>5</td>\n",
       "      <td>0.624196</td>\n",
       "      <td>0.623606</td>\n",
       "      <td>0.622776</td>\n",
       "      <td>0.620541</td>\n",
       "      <td>0.622503</td>\n",
       "      <td>0.622725</td>\n",
       "      <td>0.001246</td>\n",
       "    </tr>\n",
       "    <tr>\n",
       "      <th>5</th>\n",
       "      <td>0.550129</td>\n",
       "      <td>0.022397</td>\n",
       "      <td>0.049466</td>\n",
       "      <td>0.004747</td>\n",
       "      <td>100</td>\n",
       "      <td>{'alpha': 100}</td>\n",
       "      <td>0.541871</td>\n",
       "      <td>0.528687</td>\n",
       "      <td>0.547634</td>\n",
       "      <td>0.548236</td>\n",
       "      <td>...</td>\n",
       "      <td>0.542677</td>\n",
       "      <td>0.007351</td>\n",
       "      <td>6</td>\n",
       "      <td>0.547034</td>\n",
       "      <td>0.550573</td>\n",
       "      <td>0.545523</td>\n",
       "      <td>0.545051</td>\n",
       "      <td>0.545713</td>\n",
       "      <td>0.546779</td>\n",
       "      <td>0.002008</td>\n",
       "    </tr>\n",
       "    <tr>\n",
       "      <th>6</th>\n",
       "      <td>0.543941</td>\n",
       "      <td>0.042546</td>\n",
       "      <td>0.047472</td>\n",
       "      <td>0.004353</td>\n",
       "      <td>1000</td>\n",
       "      <td>{'alpha': 1000}</td>\n",
       "      <td>0.527546</td>\n",
       "      <td>0.512499</td>\n",
       "      <td>0.536013</td>\n",
       "      <td>0.533469</td>\n",
       "      <td>...</td>\n",
       "      <td>0.528946</td>\n",
       "      <td>0.008741</td>\n",
       "      <td>8</td>\n",
       "      <td>0.530213</td>\n",
       "      <td>0.534169</td>\n",
       "      <td>0.527855</td>\n",
       "      <td>0.528554</td>\n",
       "      <td>0.528211</td>\n",
       "      <td>0.529801</td>\n",
       "      <td>0.002329</td>\n",
       "    </tr>\n",
       "    <tr>\n",
       "      <th>7</th>\n",
       "      <td>0.368622</td>\n",
       "      <td>0.066425</td>\n",
       "      <td>0.033512</td>\n",
       "      <td>0.012466</td>\n",
       "      <td>10000</td>\n",
       "      <td>{'alpha': 10000}</td>\n",
       "      <td>0.527817</td>\n",
       "      <td>0.515493</td>\n",
       "      <td>0.538843</td>\n",
       "      <td>0.535302</td>\n",
       "      <td>...</td>\n",
       "      <td>0.531577</td>\n",
       "      <td>0.009143</td>\n",
       "      <td>7</td>\n",
       "      <td>0.532859</td>\n",
       "      <td>0.535878</td>\n",
       "      <td>0.529919</td>\n",
       "      <td>0.530830</td>\n",
       "      <td>0.529611</td>\n",
       "      <td>0.531820</td>\n",
       "      <td>0.002325</td>\n",
       "    </tr>\n",
       "  </tbody>\n",
       "</table>\n",
       "<p>8 rows × 21 columns</p>\n",
       "</div>"
      ],
      "text/plain": [
       "   mean_fit_time  std_fit_time  mean_score_time  std_score_time param_alpha  \\\n",
       "0       0.476126      0.007741         0.049667        0.004107       0.001   \n",
       "1       0.517616      0.058620         0.048470        0.004745        0.01   \n",
       "2       0.599131      0.063456         0.051062        0.006507         0.1   \n",
       "3       0.604336      0.054467         0.046479        0.003380           1   \n",
       "4       0.491005      0.039108         0.051862        0.008051          10   \n",
       "5       0.550129      0.022397         0.049466        0.004747         100   \n",
       "6       0.543941      0.042546         0.047472        0.004353        1000   \n",
       "7       0.368622      0.066425         0.033512        0.012466       10000   \n",
       "\n",
       "             params  split0_test_score  split1_test_score  split2_test_score  \\\n",
       "0  {'alpha': 0.001}           0.674129           0.677083           0.677598   \n",
       "1   {'alpha': 0.01}           0.674010           0.676934           0.677461   \n",
       "2    {'alpha': 0.1}           0.672912           0.675621           0.676372   \n",
       "3      {'alpha': 1}           0.662206           0.662778           0.665826   \n",
       "4     {'alpha': 10}           0.595791           0.588615           0.600160   \n",
       "5    {'alpha': 100}           0.541871           0.528687           0.547634   \n",
       "6   {'alpha': 1000}           0.527546           0.512499           0.536013   \n",
       "7  {'alpha': 10000}           0.527817           0.515493           0.538843   \n",
       "\n",
       "   split3_test_score  ...  mean_test_score  std_test_score  rank_test_score  \\\n",
       "0           0.685670  ...         0.678970        0.003892                1   \n",
       "1           0.685566  ...         0.678836        0.003898                2   \n",
       "2           0.684715  ...         0.677748        0.004006                3   \n",
       "3           0.675547  ...         0.667088        0.004890                4   \n",
       "4           0.608907  ...         0.599226        0.006794                5   \n",
       "5           0.548236  ...         0.542677        0.007351                6   \n",
       "6           0.533469  ...         0.528946        0.008741                8   \n",
       "7           0.535302  ...         0.531577        0.009143                7   \n",
       "\n",
       "   split0_train_score  split1_train_score  split2_train_score  \\\n",
       "0            0.739547            0.734325            0.739539   \n",
       "1            0.739335            0.734123            0.739331   \n",
       "2            0.737362            0.732225            0.737390   \n",
       "3            0.719733            0.715157            0.719861   \n",
       "4            0.624196            0.623606            0.622776   \n",
       "5            0.547034            0.550573            0.545523   \n",
       "6            0.530213            0.534169            0.527855   \n",
       "7            0.532859            0.535878            0.529919   \n",
       "\n",
       "   split3_train_score  split4_train_score  mean_train_score  std_train_score  \n",
       "0            0.738506            0.740420          0.738467         0.002158  \n",
       "1            0.738233            0.740137          0.738232         0.002142  \n",
       "2            0.736242            0.738097          0.736263         0.002104  \n",
       "3            0.718766            0.720330          0.718769         0.001877  \n",
       "4            0.620541            0.622503          0.622725         0.001246  \n",
       "5            0.545051            0.545713          0.546779         0.002008  \n",
       "6            0.528554            0.528211          0.529801         0.002329  \n",
       "7            0.530830            0.529611          0.531820         0.002325  \n",
       "\n",
       "[8 rows x 21 columns]"
      ]
     },
     "execution_count": 101,
     "metadata": {},
     "output_type": "execute_result"
    }
   ],
   "source": [
    "results = pd.DataFrame(clf.cv_results_)\n",
    "results"
   ]
  },
  {
   "cell_type": "code",
   "execution_count": 102,
   "metadata": {
    "ExecuteTime": {
     "end_time": "2022-08-05T15:10:00.525461Z",
     "start_time": "2022-08-05T15:10:00.511501Z"
    }
   },
   "outputs": [
    {
     "data": {
      "text/plain": [
       "Index(['mean_fit_time', 'std_fit_time', 'mean_score_time', 'std_score_time',\n",
       "       'param_alpha', 'params', 'split0_test_score', 'split1_test_score',\n",
       "       'split2_test_score', 'split3_test_score', 'split4_test_score',\n",
       "       'mean_test_score', 'std_test_score', 'rank_test_score',\n",
       "       'split0_train_score', 'split1_train_score', 'split2_train_score',\n",
       "       'split3_train_score', 'split4_train_score', 'mean_train_score',\n",
       "       'std_train_score'],\n",
       "      dtype='object')"
      ]
     },
     "execution_count": 102,
     "metadata": {},
     "output_type": "execute_result"
    }
   ],
   "source": [
    "results.columns"
   ]
  },
  {
   "cell_type": "code",
   "execution_count": 103,
   "metadata": {
    "ExecuteTime": {
     "end_time": "2022-08-05T15:10:00.541419Z",
     "start_time": "2022-08-05T15:10:00.529468Z"
    }
   },
   "outputs": [
    {
     "data": {
      "text/html": [
       "<div>\n",
       "<style scoped>\n",
       "    .dataframe tbody tr th:only-of-type {\n",
       "        vertical-align: middle;\n",
       "    }\n",
       "\n",
       "    .dataframe tbody tr th {\n",
       "        vertical-align: top;\n",
       "    }\n",
       "\n",
       "    .dataframe thead th {\n",
       "        text-align: right;\n",
       "    }\n",
       "</style>\n",
       "<table border=\"1\" class=\"dataframe\">\n",
       "  <thead>\n",
       "    <tr style=\"text-align: right;\">\n",
       "      <th></th>\n",
       "      <th>param_alpha</th>\n",
       "      <th>mean_train_score</th>\n",
       "      <th>mean_test_score</th>\n",
       "      <th>rank_test_score</th>\n",
       "    </tr>\n",
       "  </thead>\n",
       "  <tbody>\n",
       "    <tr>\n",
       "      <th>0</th>\n",
       "      <td>0.001</td>\n",
       "      <td>0.738467</td>\n",
       "      <td>0.678970</td>\n",
       "      <td>1</td>\n",
       "    </tr>\n",
       "    <tr>\n",
       "      <th>1</th>\n",
       "      <td>0.01</td>\n",
       "      <td>0.738232</td>\n",
       "      <td>0.678836</td>\n",
       "      <td>2</td>\n",
       "    </tr>\n",
       "    <tr>\n",
       "      <th>2</th>\n",
       "      <td>0.1</td>\n",
       "      <td>0.736263</td>\n",
       "      <td>0.677748</td>\n",
       "      <td>3</td>\n",
       "    </tr>\n",
       "    <tr>\n",
       "      <th>3</th>\n",
       "      <td>1</td>\n",
       "      <td>0.718769</td>\n",
       "      <td>0.667088</td>\n",
       "      <td>4</td>\n",
       "    </tr>\n",
       "    <tr>\n",
       "      <th>4</th>\n",
       "      <td>10</td>\n",
       "      <td>0.622725</td>\n",
       "      <td>0.599226</td>\n",
       "      <td>5</td>\n",
       "    </tr>\n",
       "    <tr>\n",
       "      <th>5</th>\n",
       "      <td>100</td>\n",
       "      <td>0.546779</td>\n",
       "      <td>0.542677</td>\n",
       "      <td>6</td>\n",
       "    </tr>\n",
       "    <tr>\n",
       "      <th>6</th>\n",
       "      <td>1000</td>\n",
       "      <td>0.529801</td>\n",
       "      <td>0.528946</td>\n",
       "      <td>8</td>\n",
       "    </tr>\n",
       "    <tr>\n",
       "      <th>7</th>\n",
       "      <td>10000</td>\n",
       "      <td>0.531820</td>\n",
       "      <td>0.531577</td>\n",
       "      <td>7</td>\n",
       "    </tr>\n",
       "  </tbody>\n",
       "</table>\n",
       "</div>"
      ],
      "text/plain": [
       "  param_alpha  mean_train_score  mean_test_score  rank_test_score\n",
       "0       0.001          0.738467         0.678970                1\n",
       "1        0.01          0.738232         0.678836                2\n",
       "2         0.1          0.736263         0.677748                3\n",
       "3           1          0.718769         0.667088                4\n",
       "4          10          0.622725         0.599226                5\n",
       "5         100          0.546779         0.542677                6\n",
       "6        1000          0.529801         0.528946                8\n",
       "7       10000          0.531820         0.531577                7"
      ]
     },
     "execution_count": 103,
     "metadata": {},
     "output_type": "execute_result"
    }
   ],
   "source": [
    "results = results[['param_alpha','mean_train_score', 'mean_test_score', 'rank_test_score']]\n",
    "results"
   ]
  },
  {
   "cell_type": "code",
   "execution_count": 104,
   "metadata": {
    "ExecuteTime": {
     "end_time": "2022-08-05T15:10:03.740537Z",
     "start_time": "2022-08-05T15:10:03.583971Z"
    }
   },
   "outputs": [
    {
     "data": {
      "image/png": "[encoded data removed]",
      "text/plain": [
       "<Figure size 576x432 with 1 Axes>"
      ]
     },
     "metadata": {
      "needs_background": "light"
     },
     "output_type": "display_data"
    }
   ],
   "source": [
    "log_param=[]\n",
    "import math as m \n",
    "for i in alpha_val['alpha']:  # converting alpha into log- alpha\n",
    "    log_param.append(m.log(i))\n",
    "    \n",
    "train_auc = results['mean_train_score'].values\n",
    "cv_auc = results['mean_test_score'].values\n",
    "\n",
    "plt.figure(figsize=(8,6))\n",
    "plt.grid()\n",
    "plt.plot(log_param, train_auc, label='Train AUC')\n",
    "plt.plot(log_param, cv_auc, label='CV AUC')  \n",
    "plt.scatter(log_param,train_auc)\n",
    "plt.scatter(log_param,cv_auc)\n",
    "plt.legend()\n",
    "plt.xlabel(\"log alpha: hyperparameter\")\n",
    "plt.ylabel(\"AUC\")\n",
    "plt.title(\"alpha: hyperparameter v/s AUC\")\n",
    "plt.grid(color='black', linestyle='-', linewidth=0.5)"
   ]
  },
  {
   "cell_type": "code",
   "execution_count": null,
   "metadata": {},
   "outputs": [],
   "source": []
  },
  {
   "cell_type": "code",
   "execution_count": null,
   "metadata": {},
   "outputs": [],
   "source": []
  },
  {
   "cell_type": "markdown",
   "metadata": {},
   "source": [
    "# model building with alpha value 0.001"
   ]
  },
  {
   "cell_type": "code",
   "execution_count": 105,
   "metadata": {
    "ExecuteTime": {
     "end_time": "2022-08-05T15:10:05.469034Z",
     "start_time": "2022-08-05T15:10:05.464047Z"
    }
   },
   "outputs": [],
   "source": [
    "tf_ = MultinomialNB(alpha=0.001, class_prior=[0.5,0.5])"
   ]
  },
  {
   "cell_type": "code",
   "execution_count": 106,
   "metadata": {
    "ExecuteTime": {
     "end_time": "2022-08-05T15:10:05.916566Z",
     "start_time": "2022-08-05T15:10:05.829798Z"
    }
   },
   "outputs": [
    {
     "data": {
      "text/plain": [
       "MultinomialNB(class_prior=[0.5, 0.5])"
      ]
     },
     "execution_count": 106,
     "metadata": {},
     "output_type": "execute_result"
    }
   ],
   "source": [
    "tf_model.fit(tf_idf_Set_feature_train, y_train)\n"
   ]
  },
  {
   "cell_type": "code",
   "execution_count": null,
   "metadata": {},
   "outputs": [],
   "source": []
  },
  {
   "cell_type": "code",
   "execution_count": 107,
   "metadata": {
    "ExecuteTime": {
     "end_time": "2022-08-05T15:10:07.116075Z",
     "start_time": "2022-08-05T15:10:07.069221Z"
    }
   },
   "outputs": [
    {
     "data": {
      "text/plain": [
       "array([0.50724369, 0.62376748, 0.45853021, ..., 0.78378557, 0.55700069,\n",
       "       0.54097432])"
      ]
     },
     "execution_count": 107,
     "metadata": {},
     "output_type": "execute_result"
    }
   ],
   "source": [
    "# finding the probalbilty score on test dataset\n",
    "y_proba_test = tf_model.predict_proba(tf_idf_set_feature_test)[:,1]\n",
    "y_proba_test"
   ]
  },
  {
   "cell_type": "code",
   "execution_count": 108,
   "metadata": {
    "ExecuteTime": {
     "end_time": "2022-08-05T15:10:07.689460Z",
     "start_time": "2022-08-05T15:10:07.591747Z"
    }
   },
   "outputs": [
    {
     "data": {
      "text/plain": [
       "array([0.35756637, 0.69519191, 0.41418842, ..., 0.43854992, 0.51883869,\n",
       "       0.87408318])"
      ]
     },
     "execution_count": 108,
     "metadata": {},
     "output_type": "execute_result"
    }
   ],
   "source": [
    "# finding the probalbilty score on train dataset\n",
    "y_proba_train = tf_model.predict_proba(tf_idf_Set_feature_train)[:,1]\n",
    "y_proba_train"
   ]
  },
  {
   "cell_type": "code",
   "execution_count": 109,
   "metadata": {
    "ExecuteTime": {
     "end_time": "2022-08-05T15:10:08.078879Z",
     "start_time": "2022-08-05T15:10:08.055936Z"
    }
   },
   "outputs": [
    {
     "data": {
      "text/plain": [
       "0.6682005906727835"
      ]
     },
     "execution_count": 109,
     "metadata": {},
     "output_type": "execute_result"
    }
   ],
   "source": [
    "# finding auc score on test dataset\n",
    "auc_score = roc_auc_score(y_true=y_test, y_score=y_proba_test)\n",
    "auc_score"
   ]
  },
  {
   "cell_type": "markdown",
   "metadata": {},
   "source": [
    "# plotting roc curve "
   ]
  },
  {
   "cell_type": "code",
   "execution_count": 110,
   "metadata": {
    "ExecuteTime": {
     "end_time": "2022-08-05T15:10:08.705925Z",
     "start_time": "2022-08-05T15:10:08.679995Z"
    }
   },
   "outputs": [],
   "source": [
    "train_fpr, train_tpr, tr_threshold = roc_curve(y_train, y_proba_train)\n",
    "test_fpr, test_tpr, te_threshold = roc_curve(y_test, y_proba_test)"
   ]
  },
  {
   "cell_type": "code",
   "execution_count": 111,
   "metadata": {
    "ExecuteTime": {
     "end_time": "2022-08-05T15:10:09.196586Z",
     "start_time": "2022-08-05T15:10:09.019190Z"
    }
   },
   "outputs": [
    {
     "data": {
      "image/png": "[encoded data removed]",
      "text/plain": [
       "<Figure size 576x432 with 1 Axes>"
      ]
     },
     "metadata": {
      "needs_background": "light"
     },
     "output_type": "display_data"
    }
   ],
   "source": [
    "plt.figure(figsize=(8,6))\n",
    "plt.plot(train_fpr, train_tpr, label=\"Train AUC =\"+str(auc(train_fpr, train_tpr)))\n",
    "plt.plot(test_fpr, test_tpr, label=\"Test AUC =\"+str(auc(test_fpr, test_tpr)))\n",
    "plt.legend()\n",
    "plt.xlabel(\"False Positive Rate(FPR)\")\n",
    "plt.ylabel(\"True Positive Rate(TPR)\")\n",
    "plt.title(\"AUC\")\n",
    "plt.grid(color='black',lw=0.5)"
   ]
  },
  {
   "cell_type": "code",
   "execution_count": null,
   "metadata": {},
   "outputs": [],
   "source": []
  },
  {
   "cell_type": "markdown",
   "metadata": {},
   "source": [
    "# finding best threshold"
   ]
  },
  {
   "cell_type": "code",
   "execution_count": 112,
   "metadata": {
    "ExecuteTime": {
     "end_time": "2022-08-05T15:10:10.337928Z",
     "start_time": "2022-08-05T15:10:10.333936Z"
    }
   },
   "outputs": [],
   "source": [
    "def find_best_threshold(threshould, fpr, tpr):\n",
    "    t = threshould[np.argmax(tpr*(1-fpr))]\n",
    "    \n",
    "    return t"
   ]
  },
  {
   "cell_type": "code",
   "execution_count": 113,
   "metadata": {
    "ExecuteTime": {
     "end_time": "2022-08-05T15:10:10.557427Z",
     "start_time": "2022-08-05T15:10:10.550461Z"
    }
   },
   "outputs": [
    {
     "data": {
      "text/plain": [
       "0.5153995120030364"
      ]
     },
     "execution_count": 113,
     "metadata": {},
     "output_type": "execute_result"
    }
   ],
   "source": [
    "best_t = find_best_threshold(tr_threshold, train_fpr, train_tpr)\n",
    "\n",
    "best_t"
   ]
  },
  {
   "cell_type": "code",
   "execution_count": null,
   "metadata": {},
   "outputs": [],
   "source": []
  },
  {
   "cell_type": "code",
   "execution_count": 114,
   "metadata": {
    "ExecuteTime": {
     "end_time": "2022-08-05T15:10:10.963579Z",
     "start_time": "2022-08-05T15:10:10.949612Z"
    }
   },
   "outputs": [],
   "source": [
    "def predict_with_best_t(proba, threshould):\n",
    "    predictions = []\n",
    "    for i in proba:\n",
    "        if i>=threshould:\n",
    "            predictions.append(1)\n",
    "        else:\n",
    "            predictions.append(0)\n",
    "    return predictions"
   ]
  },
  {
   "cell_type": "code",
   "execution_count": null,
   "metadata": {},
   "outputs": [],
   "source": []
  },
  {
   "cell_type": "code",
   "execution_count": 115,
   "metadata": {
    "ExecuteTime": {
     "end_time": "2022-08-05T15:10:11.602947Z",
     "start_time": "2022-08-05T15:10:11.576496Z"
    }
   },
   "outputs": [
    {
     "data": {
      "text/plain": [
       "[0, 1, 0, 1, 1]"
      ]
     },
     "execution_count": 115,
     "metadata": {},
     "output_type": "execute_result"
    }
   ],
   "source": [
    "y_train_pred = predict_with_best_t(y_proba_train, best_t)\n",
    "y_train_pred[:5]"
   ]
  },
  {
   "cell_type": "code",
   "execution_count": 116,
   "metadata": {
    "ExecuteTime": {
     "end_time": "2022-08-05T15:10:11.900473Z",
     "start_time": "2022-08-05T15:10:11.856930Z"
    }
   },
   "outputs": [
    {
     "data": {
      "text/plain": [
       "array([[ 7370,  3713],\n",
       "       [21744, 40369]], dtype=int64)"
      ]
     },
     "execution_count": 116,
     "metadata": {},
     "output_type": "execute_result"
    }
   ],
   "source": [
    "cm = confusion_matrix(y_pred=y_train_pred, y_true = y_train)\n",
    "\n",
    "# cm = cm/cm.astype(np.float).sum(axis=0)\n",
    "cm "
   ]
  },
  {
   "cell_type": "code",
   "execution_count": 117,
   "metadata": {
    "ExecuteTime": {
     "end_time": "2022-08-05T15:10:14.790223Z",
     "start_time": "2022-08-05T15:10:12.364212Z"
    }
   },
   "outputs": [
    {
     "data": {
      "text/plain": [
       "<AxesSubplot:>"
      ]
     },
     "execution_count": 117,
     "metadata": {},
     "output_type": "execute_result"
    },
    {
     "data": {
      "image/png": "[encoded data removed]",
      "text/plain": [
       "<Figure size 432x288 with 2 Axes>"
      ]
     },
     "metadata": {
      "needs_background": "light"
     },
     "output_type": "display_data"
    }
   ],
   "source": [
    "plt.plot('Confusion matrix on train dataset (tf-idf features)')\n",
    "\n",
    "sns.heatmap(cm, annot=True, fmt='d')"
   ]
  },
  {
   "cell_type": "code",
   "execution_count": null,
   "metadata": {},
   "outputs": [],
   "source": []
  },
  {
   "cell_type": "code",
   "execution_count": null,
   "metadata": {},
   "outputs": [],
   "source": []
  },
  {
   "cell_type": "code",
   "execution_count": 118,
   "metadata": {
    "ExecuteTime": {
     "end_time": "2022-08-05T15:10:18.708290Z",
     "start_time": "2022-08-05T15:10:18.683356Z"
    }
   },
   "outputs": [
    {
     "data": {
      "text/plain": [
       "[0, 1, 0, 1, 0]"
      ]
     },
     "execution_count": 118,
     "metadata": {},
     "output_type": "execute_result"
    }
   ],
   "source": [
    "y_test_pred = predict_with_best_t(y_proba_test, best_t)\n",
    "y_test_pred[:5]"
   ]
  },
  {
   "cell_type": "code",
   "execution_count": null,
   "metadata": {},
   "outputs": [],
   "source": []
  },
  {
   "cell_type": "code",
   "execution_count": 119,
   "metadata": {
    "ExecuteTime": {
     "end_time": "2022-08-05T15:10:19.283084Z",
     "start_time": "2022-08-05T15:10:19.258159Z"
    }
   },
   "outputs": [
    {
     "data": {
      "text/plain": [
       "array([[ 3300,  2159],\n",
       "       [10846, 19747]], dtype=int64)"
      ]
     },
     "execution_count": 119,
     "metadata": {},
     "output_type": "execute_result"
    }
   ],
   "source": [
    "cm_test = confusion_matrix(y_pred=y_test_pred, y_true = y_test)\n",
    "cm_test"
   ]
  },
  {
   "cell_type": "code",
   "execution_count": 120,
   "metadata": {
    "ExecuteTime": {
     "end_time": "2022-08-05T15:10:19.904696Z",
     "start_time": "2022-08-05T15:10:19.748111Z"
    }
   },
   "outputs": [
    {
     "data": {
      "text/plain": [
       "<AxesSubplot:>"
      ]
     },
     "execution_count": 120,
     "metadata": {},
     "output_type": "execute_result"
    },
    {
     "data": {
      "image/png": "[encoded data removed]",
      "text/plain": [
       "<Figure size 432x288 with 2 Axes>"
      ]
     },
     "metadata": {
      "needs_background": "light"
     },
     "output_type": "display_data"
    }
   ],
   "source": [
    "plt.plot('Confusion matrix on test data (tf-idf features)')\n",
    "\n",
    "sns.heatmap(cm_test, annot=True, fmt='d')"
   ]
  },
  {
   "cell_type": "code",
   "execution_count": null,
   "metadata": {},
   "outputs": [],
   "source": []
  },
  {
   "cell_type": "code",
   "execution_count": null,
   "metadata": {},
   "outputs": [],
   "source": []
  },
  {
   "cell_type": "markdown",
   "metadata": {
    "ExecuteTime": {
     "end_time": "2022-08-04T15:26:09.421167Z",
     "start_time": "2022-08-04T15:26:09.375829Z"
    }
   },
   "source": [
    "# printing best features for class 0"
   ]
  },
  {
   "cell_type": "code",
   "execution_count": 91,
   "metadata": {
    "ExecuteTime": {
     "end_time": "2022-08-05T15:07:42.876939Z",
     "start_time": "2022-08-05T15:07:42.855982Z"
    }
   },
   "outputs": [
    {
     "name": "stdout",
     "output_type": "stream",
     "text": [
      "toon\n",
      "the yoga\n",
      "this carpet\n",
      "tables students\n",
      "x0_dr\n",
      "the bouncy\n",
      "these headphones\n",
      "dry erase board\n",
      "hokki stools allow\n",
      "cube\n",
      "stools allow students\n",
      "this rug\n",
      "stools provide\n",
      "the hokki stools\n",
      "the hokki\n",
      "wobble chairs allow\n",
      "ozobot\n",
      "kidney table\n",
      "erase board\n",
      "camera allow\n"
     ]
    }
   ],
   "source": [
    "for i in np.argsort((model.feature_log_prob_)[0])[:20]:\n",
    "    print(features_bow[i])"
   ]
  },
  {
   "cell_type": "code",
   "execution_count": null,
   "metadata": {},
   "outputs": [],
   "source": []
  },
  {
   "cell_type": "code",
   "execution_count": null,
   "metadata": {},
   "outputs": [],
   "source": []
  },
  {
   "cell_type": "markdown",
   "metadata": {},
   "source": [
    "# printing best features of class 1"
   ]
  },
  {
   "cell_type": "code",
   "execution_count": 96,
   "metadata": {
    "ExecuteTime": {
     "end_time": "2022-08-05T15:09:31.614737Z",
     "start_time": "2022-08-05T15:09:31.604747Z"
    }
   },
   "outputs": [
    {
     "name": "stdout",
     "output_type": "stream",
     "text": [
      "x0_dr\n",
      "visual hands\n",
      "benefits flexible\n",
      "these supplies allow\n",
      "giving students choice\n",
      "better health\n",
      "my students need materials\n",
      "these materials give\n",
      "our scholars\n",
      "beds\n",
      "need equipment\n",
      "increased motivation\n",
      "core strength overall\n",
      "abstract concepts\n",
      "feel success early\n",
      "supplies provide\n",
      "feel success early age\n"
     ]
    }
   ],
   "source": [
    "for i in np.argsort(model.feature_log_prob_[1])[:20]:\n",
    "    print(features_bow[i])"
   ]
  },
  {
   "cell_type": "markdown",
   "metadata": {
    "id": "lS9hIHdib3dp"
   },
   "source": [
    "<h1>3. Summary</h1>\n",
    "\n",
    "<br> as mentioned in the step 5 of instructions"
   ]
  },
  {
   "cell_type": "code",
   "execution_count": null,
   "metadata": {},
   "outputs": [],
   "source": [
    "#Summarize your assignment work here in a few points, and also compare the final models (from set 1 and set 2), in terms of optimal hyperparameter value 'alpha', training AUC and test AUC scores.\n",
    "# You can either use a pretty table or any other tabular structure.\n",
    "# Reference Link for Pretty table:  https://pypi.org/project/prettytable/"
   ]
  },
  {
   "cell_type": "code",
   "execution_count": 126,
   "metadata": {
    "ExecuteTime": {
     "end_time": "2022-08-05T15:16:33.569643Z",
     "start_time": "2022-08-05T15:16:33.556680Z"
    }
   },
   "outputs": [
    {
     "name": "stdout",
     "output_type": "stream",
     "text": [
      "+------------+-------------+-----------------+-----------+----------+\n",
      "| Vectorizer |    Model    | Hyper Parameter | Train-AUC | Test-AUC |\n",
      "+------------+-------------+-----------------+-----------+----------+\n",
      "|    BOW     | Naive Bayes |      0.001      |   0.7415  |  0.6944  |\n",
      "|   TFIDF    | Naive Bayes |      0.001      |   0.7131  |   0.66   |\n",
      "+------------+-------------+-----------------+-----------+----------+\n"
     ]
    }
   ],
   "source": [
    "from prettytable import PrettyTable\n",
    "table=PrettyTable()\n",
    "table.field_names = [\"Vectorizer\", \"Model\", \"Hyper Parameter\", \"Train-AUC\",\"Test-AUC\"]\n",
    "table.add_row([\"BOW\", \"Naive Bayes\", 10**-3,0.7415, 0.6944])\n",
    "table.add_row([\"TFIDF\", \"Naive Bayes\", 10**-3,0.7131, 0.66])\n",
    "print(table)"
   ]
  },
  {
   "cell_type": "code",
   "execution_count": null,
   "metadata": {},
   "outputs": [],
   "source": [
    "# Most imp thing I learned that if i Dont use max features than my model was going crazy. "
   ]
  }
 ],
 "metadata": {
  "colab": {
   "collapsed_sections": [],
   "name": "6_Assignment_NB_Instructions.ipynb",
   "provenance": []
  },
  "kernelspec": {
   "display_name": "Python 3 (ipykernel)",
   "language": "python",
   "name": "python3"
  },
  "language_info": {
   "codemirror_mode": {
    "name": "ipython",
    "version": 3
   },
   "file_extension": ".py",
   "mimetype": "text/x-python",
   "name": "python",
   "nbconvert_exporter": "python",
   "pygments_lexer": "ipython3",
   "version": "3.8.9"
  },
  "toc": {
   "base_numbering": 1,
   "nav_menu": {},
   "number_sections": true,
   "sideBar": true,
   "skip_h1_title": false,
   "title_cell": "Table of Contents",
   "title_sidebar": "Contents",
   "toc_cell": false,
   "toc_position": {},
   "toc_section_display": true,
   "toc_window_display": false
  }
 },
 "nbformat": 4,
 "nbformat_minor": 1
}
